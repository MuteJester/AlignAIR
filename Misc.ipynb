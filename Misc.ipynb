{
 "cells": [
  {
   "cell_type": "code",
   "execution_count": 3,
   "id": "8b67224e-025b-405f-8480-630e32cad433",
   "metadata": {},
   "outputs": [],
   "source": [
    "import tarfile\n",
    "import csv\n",
    "import io\n",
    "import networkx as nx\n",
    "import matplotlib.pyplot as plt\n",
    "import pandas as pd\n",
    "import matplotlib.pyplot as plot\n",
    "import seaborn as sns\n",
    "import matplotlib as mpl\n",
    "import sys\n",
    "mpl.rcParams['figure.figsize'] = (20,11)\n",
    "from uuid import uuid4\n",
    "import networkx as nx \n",
    "from tqdm.notebook import tqdm\n",
    "tqdm.pandas()\n",
    "from IPython.display import clear_output\n",
    "import re\n",
    "from io import StringIO\n",
    "import zipfile\n",
    "import pickle\n",
    "sns.set_context('poster')\n",
    "import numpy as np\n",
    "from tqdm.keras import TqdmCallback\n",
    "import tensorflow as tf\n",
    "import csv"
   ]
  },
  {
   "cell_type": "code",
   "execution_count": 12,
   "id": "2dcc30eb-5519-4722-8315-f2a827a3c1ce",
   "metadata": {},
   "outputs": [
    {
     "ename": "NameError",
     "evalue": "name 'HcExperimental' is not defined",
     "output_type": "error",
     "traceback": [
      "\u001b[1;31m---------------------------------------------------------------------------\u001b[0m",
      "\u001b[1;31mNameError\u001b[0m                                 Traceback (most recent call last)",
      "Input \u001b[1;32mIn [12]\u001b[0m, in \u001b[0;36m<cell line: 13>\u001b[1;34m()\u001b[0m\n\u001b[0;32m      7\u001b[0m     heavychain_config \u001b[38;5;241m=\u001b[39m pickle\u001b[38;5;241m.\u001b[39mload(h)\n\u001b[0;32m      9\u001b[0m dataset \u001b[38;5;241m=\u001b[39m HeavyChainDataset(data_path\u001b[38;5;241m=\u001b[39m\u001b[38;5;124m\"\u001b[39m\u001b[38;5;124mC:/Users/Tomas/Downloads/train_dataset.csv\u001b[39m\u001b[38;5;124m\"\u001b[39m,\n\u001b[0;32m     10\u001b[0m                             dataconfig\u001b[38;5;241m=\u001b[39mheavychain_config, batch_read_file\u001b[38;5;241m=\u001b[39m\u001b[38;5;28;01mTrue\u001b[39;00m)\n\u001b[1;32m---> 13\u001b[0m trainer \u001b[38;5;241m=\u001b[39m \u001b[43mTrainer\u001b[49m\u001b[43m(\u001b[49m\n\u001b[0;32m     14\u001b[0m \u001b[43m            \u001b[49m\u001b[43mmodel\u001b[49m\u001b[38;5;241;43m=\u001b[39;49m\u001b[43mHeavyChainAlignAIRR\u001b[49m\u001b[43m,\u001b[49m\n\u001b[0;32m     15\u001b[0m \u001b[43m            \u001b[49m\u001b[43mdataset\u001b[49m\u001b[38;5;241;43m=\u001b[39;49m\u001b[43mdataset\u001b[49m\u001b[43m,\u001b[49m\n\u001b[0;32m     16\u001b[0m \u001b[43m            \u001b[49m\u001b[43mepochs\u001b[49m\u001b[38;5;241;43m=\u001b[39;49m\u001b[38;5;241;43m1\u001b[39;49m\u001b[43m,\u001b[49m\n\u001b[0;32m     17\u001b[0m \u001b[43m            \u001b[49m\u001b[43msteps_per_epoch\u001b[49m\u001b[38;5;241;43m=\u001b[39;49m\u001b[38;5;241;43m1\u001b[39;49m\u001b[43m,\u001b[49m\n\u001b[0;32m     18\u001b[0m \u001b[43m            \u001b[49m\u001b[43mverbose\u001b[49m\u001b[38;5;241;43m=\u001b[39;49m\u001b[38;5;241;43m1\u001b[39;49m\u001b[43m,\u001b[49m\n\u001b[0;32m     19\u001b[0m \u001b[43m            \u001b[49m\u001b[43m)\u001b[49m\n\u001b[0;32m     21\u001b[0m trainer\u001b[38;5;241m.\u001b[39mmodel\u001b[38;5;241m.\u001b[39mbuild({\u001b[38;5;124m'\u001b[39m\u001b[38;5;124mtokenized_sequence\u001b[39m\u001b[38;5;124m'\u001b[39m: (\u001b[38;5;241m576\u001b[39m, \u001b[38;5;241m1\u001b[39m)})\n\u001b[0;32m     22\u001b[0m MODEL_CHECKPOINT \u001b[38;5;241m=\u001b[39m model_checkpoint\n",
      "File \u001b[1;32mE:\\Immunobiology\\AlignAIRR\\Trainers\\Trainer.py:58\u001b[0m, in \u001b[0;36mTrainer.__init__\u001b[1;34m(self, dataset, model, epochs, steps_per_epoch, num_parallel_calls, log_to_file, log_file_name, log_file_path, classification_metric, regression_metric, verbose, batch_file_reader, pretrained, compute_metrics, callbacks, optimizers, optimizers_params)\u001b[0m\n\u001b[0;32m     55\u001b[0m \u001b[38;5;28mself\u001b[39m\u001b[38;5;241m.\u001b[39mallele_types \u001b[38;5;241m=\u001b[39m [\u001b[38;5;124m'\u001b[39m\u001b[38;5;124mv\u001b[39m\u001b[38;5;124m'\u001b[39m,\u001b[38;5;124m'\u001b[39m\u001b[38;5;124mj\u001b[39m\u001b[38;5;124m'\u001b[39m] \u001b[38;5;28;01mif\u001b[39;00m \u001b[38;5;28misinstance\u001b[39m(\u001b[38;5;28mself\u001b[39m\u001b[38;5;241m.\u001b[39mtrain_dataset,LightChainDataset) \u001b[38;5;28;01melse\u001b[39;00m [\u001b[38;5;124m'\u001b[39m\u001b[38;5;124mv\u001b[39m\u001b[38;5;124m'\u001b[39m,\u001b[38;5;124m'\u001b[39m\u001b[38;5;124md\u001b[39m\u001b[38;5;124m'\u001b[39m,\u001b[38;5;124m'\u001b[39m\u001b[38;5;124mj\u001b[39m\u001b[38;5;124m'\u001b[39m]\n\u001b[0;32m     57\u001b[0m \u001b[38;5;66;03m# Set Up Trainer Instance\u001b[39;00m\n\u001b[1;32m---> 58\u001b[0m \u001b[38;5;28;43mself\u001b[39;49m\u001b[38;5;241;43m.\u001b[39;49m\u001b[43m_load_pretrained_model\u001b[49m\u001b[43m(\u001b[49m\u001b[43m)\u001b[49m  \u001b[38;5;66;03m# only if pretrained is not None\u001b[39;00m\n\u001b[0;32m     59\u001b[0m \u001b[38;5;28mself\u001b[39m\u001b[38;5;241m.\u001b[39m_compile_model()\n",
      "File \u001b[1;32mE:\\Immunobiology\\AlignAIRR\\Trainers\\Trainer.py:63\u001b[0m, in \u001b[0;36mTrainer._load_pretrained_model\u001b[1;34m(self)\u001b[0m\n\u001b[0;32m     61\u001b[0m \u001b[38;5;28;01mdef\u001b[39;00m \u001b[38;5;21m_load_pretrained_model\u001b[39m(\u001b[38;5;28mself\u001b[39m):\n\u001b[0;32m     62\u001b[0m     model_params \u001b[38;5;241m=\u001b[39m \u001b[38;5;28mself\u001b[39m\u001b[38;5;241m.\u001b[39mtrain_dataset\u001b[38;5;241m.\u001b[39mgenerate_model_params()\n\u001b[1;32m---> 63\u001b[0m     \u001b[38;5;28mself\u001b[39m\u001b[38;5;241m.\u001b[39mmodel \u001b[38;5;241m=\u001b[39m \u001b[38;5;28;43mself\u001b[39;49m\u001b[38;5;241;43m.\u001b[39;49m\u001b[43mmodel_type\u001b[49m\u001b[43m(\u001b[49m\u001b[38;5;241;43m*\u001b[39;49m\u001b[38;5;241;43m*\u001b[39;49m\u001b[43mmodel_params\u001b[49m\u001b[43m)\u001b[49m\n\u001b[0;32m     64\u001b[0m     \u001b[38;5;28;01mif\u001b[39;00m \u001b[38;5;28mself\u001b[39m\u001b[38;5;241m.\u001b[39mpretrained \u001b[38;5;129;01mis\u001b[39;00m \u001b[38;5;129;01mnot\u001b[39;00m \u001b[38;5;28;01mNone\u001b[39;00m:\n\u001b[0;32m     65\u001b[0m         \u001b[38;5;28mself\u001b[39m\u001b[38;5;241m.\u001b[39mmodel\u001b[38;5;241m.\u001b[39mload_weights(\u001b[38;5;28mself\u001b[39m\u001b[38;5;241m.\u001b[39mpretrained)\n",
      "File \u001b[1;32mE:\\Immunobiology\\AlignAIRR\\Models\\HeavyChain\\HeavyChainAlignAIRR.py:34\u001b[0m, in \u001b[0;36mHeavyChainAlignAIRR.__init__\u001b[1;34m(self, max_seq_length, v_allele_count, d_allele_count, j_allele_count)\u001b[0m\n\u001b[0;32m     33\u001b[0m \u001b[38;5;28;01mdef\u001b[39;00m \u001b[38;5;21m__init__\u001b[39m(\u001b[38;5;28mself\u001b[39m, max_seq_length, v_allele_count, d_allele_count, j_allele_count):\n\u001b[1;32m---> 34\u001b[0m     \u001b[38;5;28msuper\u001b[39m(\u001b[43mHcExperimental\u001b[49m, \u001b[38;5;28mself\u001b[39m)\u001b[38;5;241m.\u001b[39m\u001b[38;5;21m__init__\u001b[39m()\n\u001b[0;32m     36\u001b[0m     \u001b[38;5;66;03m# weight initialization distribution\u001b[39;00m\n\u001b[0;32m     37\u001b[0m     \u001b[38;5;28mself\u001b[39m\u001b[38;5;241m.\u001b[39minitializer \u001b[38;5;241m=\u001b[39m tf\u001b[38;5;241m.\u001b[39mkeras\u001b[38;5;241m.\u001b[39minitializers\u001b[38;5;241m.\u001b[39mGlorotUniform()\u001b[38;5;66;03m#RandomNormal(mean=0.1, stddev=0.02)\u001b[39;00m\n",
      "\u001b[1;31mNameError\u001b[0m: name 'HcExperimental' is not defined"
     ]
    }
   ],
   "source": [
    "from Data import HeavyChainDataset\n",
    "from Trainers import Trainer\n",
    "from Models.HeavyChain import HeavyChainAlignAIRR\n",
    "\n",
    "import pickle\n",
    "with open('./SequenceSimulation/data/HeavyChain_DataConfig_OGRDB_V2.pkl','rb') as h:\n",
    "    heavychain_config = pickle.load(h)\n",
    "    \n",
    "dataset = HeavyChainDataset(data_path=\"C:/Users/Tomas/Downloads/train_dataset.csv\",\n",
    "                            dataconfig=heavychain_config, batch_read_file=True)\n",
    "\n",
    "\n",
    "trainer = Trainer(\n",
    "            model=HeavyChainAlignAIRR,\n",
    "            dataset=dataset,\n",
    "            epochs=1,\n",
    "            steps_per_epoch=1,\n",
    "            verbose=1,\n",
    "            )\n",
    "\n",
    "trainer.model.build({'tokenized_sequence': (576, 1)})\n",
    "MODEL_CHECKPOINT = model_checkpoint\n",
    "print('Loading: ', MODEL_CHECKPOINT.split('/')[-1])\n",
    "trainer.model.load_weights(\n",
    "MODEL_CHECKPOINT)\n",
    "print('Model Loaded!')"
   ]
  },
  {
   "cell_type": "code",
   "execution_count": 8,
   "id": "5167411c-9f24-4625-ab74-8c72965f2a39",
   "metadata": {},
   "outputs": [
    {
     "ename": "AttributeError",
     "evalue": "'IGHV_KalmanAlignment' object has no attribute 'align'",
     "output_type": "error",
     "traceback": [
      "\u001b[1;31m---------------------------------------------------------------------------\u001b[0m",
      "\u001b[1;31mAttributeError\u001b[0m                            Traceback (most recent call last)",
      "Input \u001b[1;32mIn [8]\u001b[0m, in \u001b[0;36m<cell line: 77>\u001b[1;34m()\u001b[0m\n\u001b[0;32m     74\u001b[0m sequence_to_align \u001b[38;5;241m=\u001b[39m \u001b[38;5;124m\"\u001b[39m\u001b[38;5;124mATGG\u001b[39m\u001b[38;5;124m\"\u001b[39m\n\u001b[0;32m     76\u001b[0m kalman_aligner \u001b[38;5;241m=\u001b[39m IGHV_KalmanAlignment(reference_sequence)\n\u001b[1;32m---> 77\u001b[0m alignment, residuals \u001b[38;5;241m=\u001b[39m \u001b[43mkalman_aligner\u001b[49m\u001b[38;5;241;43m.\u001b[39;49m\u001b[43malign\u001b[49m(sequence_to_align)\n\u001b[0;32m     79\u001b[0m \u001b[38;5;28mprint\u001b[39m(\u001b[38;5;124m\"\u001b[39m\u001b[38;5;124mAlignment:\u001b[39m\u001b[38;5;124m\"\u001b[39m, [kalman_aligner\u001b[38;5;241m.\u001b[39m_number_to_nucleotide(np\u001b[38;5;241m.\u001b[39margmax(a)) \u001b[38;5;28;01mfor\u001b[39;00m a \u001b[38;5;129;01min\u001b[39;00m alignment])\n\u001b[0;32m     80\u001b[0m \u001b[38;5;28mprint\u001b[39m(\u001b[38;5;124m\"\u001b[39m\u001b[38;5;124mResiduals:\u001b[39m\u001b[38;5;124m\"\u001b[39m, residuals)\n",
      "\u001b[1;31mAttributeError\u001b[0m: 'IGHV_KalmanAlignment' object has no attribute 'align'"
     ]
    }
   ],
   "source": [
    "import itertools\n",
    "class IGHV_KalmanAlignment:\n",
    "    def __init__(self, reference_sequence, K=1):\n",
    "        self.K = K\n",
    "        self.reference = self._generate_kmers(reference_sequence, K)\n",
    "        self.n = len(self.reference)\n",
    "        \n",
    "        # Generate a list of all possible k-mers\n",
    "        self.all_kmers = self._generate_all_kmers(K)\n",
    "        self.kmer_count = len(self.all_kmers)\n",
    "        \n",
    "        # Initial state as a score for each k-mer for each position\n",
    "        self.state_estimate = np.zeros((self.n, self.kmer_count))\n",
    "        for i, kmer in enumerate(self.reference):\n",
    "            idx = self.all_kmers.index(kmer)\n",
    "            self.state_estimate[i][idx] = 1\n",
    "        \n",
    "        # Initial covariance matrices\n",
    "        self.state_covariance = np.eye(self.kmer_count) * 0.1\n",
    "        \n",
    "        # Process and measurement noise covariances\n",
    "        self.Q = np.eye(self.kmer_count) * 0.01\n",
    "        self.R = np.eye(self.kmer_count) * 0.01\n",
    "\n",
    "    def _generate_kmers(self, sequence, K):\n",
    "        return [sequence[i:i+K] for i in range(len(sequence) - K + 1)]\n",
    "\n",
    "    def _generate_all_kmers(self, K):\n",
    "        nucleotides = ['A', 'T', 'C', 'G']\n",
    "        return [''.join(p) for p in itertools.product(nucleotides, repeat=K)]\n",
    "\n",
    "    # ... [rest of the class, with necessary modifications]\n",
    "\n",
    "    def _kmer_to_vector(self, kmer):\n",
    "        vector = np.zeros(self.kmer_count)\n",
    "        idx = self.all_kmers.index(kmer)\n",
    "        vector[idx] = 1\n",
    "        return vector\n",
    "\n",
    "    def learn_from_samples(self, sample_sequences):\n",
    "        # Initialize transition matrix and mutation rates\n",
    "        transition_matrix = np.zeros((self.kmer_count, self.kmer_count))\n",
    "        mutation_rates = np.zeros(self.kmer_count)\n",
    "\n",
    "        for seq in sample_sequences:\n",
    "            kmers = self._generate_kmers(seq, self.K)\n",
    "            for i in range(len(kmers) - 1):\n",
    "                current_kmer = kmers[i]\n",
    "                next_kmer = kmers[i+1]\n",
    "\n",
    "                current_idx = self.all_kmers.index(current_kmer)\n",
    "                next_idx = self.all_kmers.index(next_kmer)\n",
    "\n",
    "                # Update transition matrix\n",
    "                transition_matrix[current_idx][next_idx] += 1\n",
    "\n",
    "                # Update mutation rates\n",
    "                if current_kmer != self.reference[i]:\n",
    "                    mutation_rates[current_idx] += 1\n",
    "\n",
    "        # Normalize transition matrix to get probabilities\n",
    "        transition_matrix /= transition_matrix.sum(axis=1, keepdims=True)\n",
    "\n",
    "        # Normalize mutation rates\n",
    "        mutation_rates /= len(sample_sequences)\n",
    "\n",
    "        # Update class attributes\n",
    "        self.transition_matrix = transition_matrix\n",
    "        self.mutation_rates = mutation_rates\n",
    "\n",
    "\n",
    "# Example usage:\n",
    "reference_sequence = \"ATCG\"\n",
    "sequence_to_align = \"ATGG\"\n",
    "\n",
    "kalman_aligner = IGHV_KalmanAlignment(reference_sequence)\n",
    "alignment, residuals = kalman_aligner.align(sequence_to_align)\n",
    "\n",
    "print(\"Alignment:\", [kalman_aligner._number_to_nucleotide(np.argmax(a)) for a in alignment])\n",
    "print(\"Residuals:\", residuals)\n"
   ]
  },
  {
   "cell_type": "code",
   "execution_count": 3,
   "id": "4c8ecdc4-8fd3-4722-aaf2-7c00d71539b1",
   "metadata": {},
   "outputs": [
    {
     "name": "stderr",
     "output_type": "stream",
     "text": [
      "C:\\Users\\Tomas\\anaconda3\\lib\\site-packages\\IPython\\core\\interactiveshell.py:3398: DtypeWarning: Columns (81,82,88) have mixed types.Specify dtype option on import or set low_memory=False.\n",
      "  exec(code_obj, self.user_global_ns, self.user_ns)\n"
     ]
    }
   ],
   "source": [
    "t = pd.read_table('E:/Immunobiology/Data/HIV C1/015V04005438_CFAR.tsv')"
   ]
  },
  {
   "cell_type": "code",
   "execution_count": 4,
   "id": "e7bf55e3-29f7-47ee-9c4d-32fc82e8b7cb",
   "metadata": {},
   "outputs": [
    {
     "name": "stderr",
     "output_type": "stream",
     "text": [
      "C:\\Users\\Tomas\\anaconda3\\lib\\site-packages\\IPython\\core\\interactiveshell.py:3398: DtypeWarning: Columns (81,82,83,88,93) have mixed types.Specify dtype option on import or set low_memory=False.\n",
      "  exec(code_obj, self.user_global_ns, self.user_ns)\n"
     ]
    }
   ],
   "source": [
    "t2 = pd.read_table('E:/Immunobiology/Data/HIV C1/015V05006625_CFAR.tsv')"
   ]
  },
  {
   "cell_type": "code",
   "execution_count": 9,
   "id": "5056afd7-b827-4de2-a6a0-7cf5e63c3092",
   "metadata": {},
   "outputs": [
    {
     "data": {
      "text/plain": [
       "16"
      ]
     },
     "execution_count": 9,
     "metadata": {},
     "output_type": "execute_result"
    }
   ],
   "source": [
    "len(set(t['cdr3_rearrangement'].dropna())&set(t2['cdr3_rearrangement'].dropna()))"
   ]
  },
  {
   "cell_type": "code",
   "execution_count": 11,
   "id": "ebd32293-f602-473b-b80c-128b30e77565",
   "metadata": {},
   "outputs": [
    {
     "data": {
      "text/plain": [
       "237"
      ]
     },
     "execution_count": 11,
     "metadata": {},
     "output_type": "execute_result"
    }
   ],
   "source": [
    "len(set(t['cdr3_amino_acid'].dropna())&set(t2['cdr3_amino_acid'].dropna()))"
   ]
  },
  {
   "cell_type": "code",
   "execution_count": 3,
   "id": "da0c5b44-51f6-4ce0-b51f-3ab9b9239615",
   "metadata": {},
   "outputs": [],
   "source": [
    "\n",
    "# Importing the library\n",
    "import psutil\n",
    "def ram_usage():\n",
    "    # Getting % usage of virtual_memory ( 3rd field)\n",
    "    print('RAM memory % used:', psutil.virtual_memory()[2])\n",
    "    # Getting usage of virtual_memory in GB ( 4th field)\n",
    "    print('RAM Used (GB):', psutil.virtual_memory()[3]/1000000000)\n",
    "\n"
   ]
  },
  {
   "cell_type": "code",
   "execution_count": 3,
   "id": "6db55395-ed6a-4d50-ad2e-68c117ddaa57",
   "metadata": {},
   "outputs": [],
   "source": [
    "ubd = VDeepJUnbondedDataset(nucleotide_add_coef=110)"
   ]
  },
  {
   "cell_type": "code",
   "execution_count": 4,
   "id": "12a1c59d-f7f0-485c-bf87-6f1b27f4a97a",
   "metadata": {},
   "outputs": [
    {
     "data": {
      "text/plain": [
       "'GAGGTACAGCTGGTGGAGTCTGANGGAGGCTTGGTCCAGCCGGGGGGGTCCCTGCGACTCTCCCGTGTAGCCTCGNGATTCCTCGTCACAGCCGGTTACANGANCTGGGTCCGCCGGACTCCAGGAAAGGGGCTGGAGTGGGTCTCACTGCTTTACTCTGATCANAATACACTTCACCCAGACTCGATGAAGGGCCGCTTCACCATTTCCCGAGACTACTTCCCCAGTACTGTGTATCTTCACNTGAGTACTCTCAGAAATGAAGACACGGCTGTCTATTATTGTGNTATTTCGGTTGGCTGTACCTTCCACCGCGTTACGGTAACCATAAGGCACCTACAACATTGGGGCCAGGGCATCGTGGTCACCGTCTCATCAG'"
      ]
     },
     "execution_count": 4,
     "metadata": {},
     "output_type": "execute_result"
    }
   ],
   "source": [
    "g = ubd.generate_single()\n",
    "g.mutated_seq"
   ]
  },
  {
   "cell_type": "code",
   "execution_count": 5,
   "id": "fd2373a1-99b8-4c51-a89b-35020f8e0df0",
   "metadata": {
    "tags": []
   },
   "outputs": [
    {
     "name": "stdout",
     "output_type": "stream",
     "text": [
      "379\n"
     ]
    }
   ],
   "source": [
    "for i in ubd.get_train_dataset().as_numpy_iterator():\n",
    "    x,y = list(i)\n",
    "    print(512-sum(map(lambda x: x == 0, x['tokenized_sequence'][0])))\n",
    "    break"
   ]
  },
  {
   "cell_type": "code",
   "execution_count": 2,
   "id": "6a08d3b3-ede2-462a-bce9-4be794a5d4b9",
   "metadata": {},
   "outputs": [],
   "source": [
    "from VDeepJModelExperimental import VDeepJAllignExperimental"
   ]
  },
  {
   "cell_type": "code",
   "execution_count": 4,
   "id": "19b7562e-a14d-4048-a614-33cd8cadf1eb",
   "metadata": {},
   "outputs": [],
   "source": [
    "from tensorflow.keras.callbacks import ReduceLROnPlateau\n",
    "Reduce_lr = ReduceLROnPlateau(monitor='v_allele_categorical_accuracy', factor=0.8,\n",
    "                              patience=1,min_delta=1e-32,mode='auto')"
   ]
  },
  {
   "cell_type": "code",
   "execution_count": 6,
   "id": "3b63af64-ae3f-4d62-bb4b-0f243147b392",
   "metadata": {},
   "outputs": [],
   "source": [
    "# trainer = UnboundedTrainer(  VDeepJAllignExperimental,epochs=5,batch_size=64,steps_per_epoch=1_000_000,verbose=1,\n",
    "#                              corrupt_beginning=True,\n",
    "#                              classification_head_metric='categorical_accuracy',\n",
    "#                              interval_head_metric=tf.keras.losses.log_cosh,\n",
    "#                              corrupt_proba=0.4,\n",
    "#                              use_gene_masking=False,\n",
    "#                              nucleotide_add_coef=110,\n",
    "#                              nucleotide_remove_coef=110,\n",
    "#                              random_sequence_add_proba=0.45,\n",
    "#                              single_base_stream_proba=0.05,\n",
    "#                              duplicate_leading_proba=0.25,\n",
    "#                              random_allele_proba=0.25,\n",
    "#                              num_parallel_calls = 45,\n",
    "#                              log_to_file=True,log_file_name='log',log_file_path='C:/Users/Tomas/Downloads/',callbacks=[Reduce_lr],optimizers_params={'clipnorm' : 1}\n",
    "#                              )"
   ]
  },
  {
   "cell_type": "code",
   "execution_count": 2,
   "id": "687a929a-1a93-4fe6-976f-ea77511a3d3d",
   "metadata": {},
   "outputs": [],
   "source": [
    "from VDeepJUnbondedDataset import VDeepJUnbondedDatasetSingleBeam\n",
    "from VDeepJModelExperimental import VDeepJAllignExperimentalSingleBeam,VDeepJAllignExperimentalSingleBeam2\n",
    "from UnboundedTrainer import SingleBeamUnboundedTrainer\n",
    "ds = VDeepJUnbondedDatasetSingleBeam(nucleotide_add_coef=210,nucleotide_remove_coef=510)\n",
    "import random\n",
    "from tensorflow.keras.callbacks import ReduceLROnPlateau\n",
    "reduce_lr = ReduceLROnPlateau(monitor='v_allele_categorical_accuracy', factor=0.8,\n",
    "                              patience=1,min_delta=1e-32,mode='auto')"
   ]
  },
  {
   "cell_type": "code",
   "execution_count": 74,
   "id": "b8057060-58cd-4e7e-8dae-047afc874343",
   "metadata": {},
   "outputs": [],
   "source": [
    "trainer = SingleBeamUnboundedTrainer(\n",
    "    VDeepJAllignExperimentalSingleBeam2,\n",
    "    epochs=1,\n",
    "    batch_size=32,\n",
    "    steps_per_epoch=150_000,\n",
    "    verbose=1,\n",
    "    corrupt_beginning=True,\n",
    "    classification_head_metric=[tf.keras.metrics.AUC(),tf.keras.metrics.AUC(),tf.keras.metrics.AUC()],\n",
    "    interval_head_metric=tf.keras.losses.mae,\n",
    "    corrupt_proba=1,\n",
    "    nucleotide_add_coef=210,\n",
    "    nucleotide_remove_coef=330,\n",
    "    random_sequence_add_proba=0.45,\n",
    "    single_base_stream_proba=0.05,\n",
    "    duplicate_leading_proba=0.25,\n",
    "    random_allele_proba=0.25,\n",
    "    num_parallel_calls=45,\n",
    "    log_to_file=True,\n",
    "    optimizers_params={\"clipnorm\": 1},\n",
    ")"
   ]
  },
  {
   "cell_type": "code",
   "execution_count": 75,
   "id": "b0b12b03-ac2d-4474-b31d-e837ffd86fd0",
   "metadata": {},
   "outputs": [],
   "source": [
    "train_ds = trainer.train_dataset.get_train_dataset().prefetch(buffer_size=32)"
   ]
  },
  {
   "cell_type": "code",
   "execution_count": 76,
   "id": "49352be0-97c5-4ce3-b982-4f85c289df58",
   "metadata": {},
   "outputs": [
    {
     "data": {
      "text/plain": [
       "<AxesSubplot:ylabel='Density'>"
      ]
     },
     "execution_count": 76,
     "metadata": {},
     "output_type": "execute_result"
    },
    {
     "data": {
      "image/png": "[encoded data removed]",
      "text/plain": [
       "<Figure size 1440x792 with 1 Axes>"
      ]
     },
     "metadata": {
      "needs_background": "light"
     },
     "output_type": "display_data"
    }
   ],
   "source": [
    "sns.kdeplot(trainer.train_dataset.sequence_corruptor._sample_nucleotide_remove_distribution(10000))"
   ]
  },
  {
   "cell_type": "code",
   "execution_count": 1,
   "id": "ec8542b8-a16d-495d-bb27-8fd67695215e",
   "metadata": {},
   "outputs": [
    {
     "name": "stderr",
     "output_type": "stream",
     "text": [
      "<frozen importlib._bootstrap>:219: RuntimeWarning: scipy._lib.messagestream.MessageStream size changed, may indicate binary incompatibility. Expected 56 from C header, got 64 from PyObject\n",
      "C:\\Users\\Tomas\\anaconda3\\lib\\site-packages\\tensorflow_addons\\utils\\ensure_tf_install.py:53: UserWarning: Tensorflow Addons supports using Python ops for all Tensorflow versions above or equal to 2.6.0 and strictly below 2.9.0 (nightly versions are not supported). \n",
      " The versions of TensorFlow you are currently using is 2.9.1 and is not supported. \n",
      "Some things might work, some things might not.\n",
      "If you were to encounter a bug, do not file an issue.\n",
      "If you want to make sure you're using a tested and supported configuration, either change the TensorFlow version or the TensorFlow Addons's version. \n",
      "You can find the compatibility matrix in TensorFlow Addon's readme:\n",
      "https://github.com/tensorflow/addons\n",
      "  warnings.warn(\n"
     ]
    }
   ],
   "source": [
    "from VDeepJDataset import VDeepJDatasetSingleBeam\n",
    "from Trainer import SingleBeamTrainer\n",
    "from VDeepJModelExperimental import VDeepJAllignExperimentalSingleBeamRG"
   ]
  },
  {
   "cell_type": "code",
   "execution_count": 2,
   "id": "75619a33-9bcb-44c5-ad1c-a9507876c437",
   "metadata": {},
   "outputs": [],
   "source": [
    "dataset = VDeepJDatasetSingleBeam(data_path='C:/Users/Tomas/Downloads/AlignAIRR_Large_Train_Dataset.csv',\n",
    "                                 batch_size=64,batch_read_file=True)"
   ]
  },
  {
   "cell_type": "code",
   "execution_count": 11,
   "id": "2d86c444-3e67-4e51-99e7-3c8ca9a14df3",
   "metadata": {},
   "outputs": [],
   "source": [
    "g = dataset._train_generator()"
   ]
  },
  {
   "cell_type": "code",
   "execution_count": 2,
   "id": "48b94c03-7186-46db-b2c4-df6f706a922f",
   "metadata": {},
   "outputs": [],
   "source": [
    "trainer = SingleBeamTrainer(model = VDeepJAllignExperimentalSingleBeamRG,epochs=5,steps_per_epoch=5500,data_path='C:/Users/Tomas/Downloads/AlignAIRR_Large_Train_Dataset.csv',\n",
    "                                 batch_size=64,batch_read_file=True,verbose=True)"
   ]
  },
  {
   "cell_type": "code",
   "execution_count": 3,
   "id": "2bb669c9-2839-49f4-aa25-53e7b4994c35",
   "metadata": {},
   "outputs": [
    {
     "name": "stdout",
     "output_type": "stream",
     "text": [
      "Epoch 1/5\n",
      "85/85 [==============================] - 24s 137ms/step - d_allele_categorical_accuracy: 0.0215 - d_end_mae: 326.1884 - d_start_mae: 345.0834 - j_allele_categorical_accuracy: 0.0853 - j_end_mae: 381.9600 - j_start_mae: 364.8090 - v_allele_categorical_accuracy: 0.0046 - v_end_mae: 167.5385 - v_start_mae: 48.1521 - loss: 46328.6523 - insec_loss: 29.0223 - mod3_mse_loss: 92627.9844 - total_classification_loss: 0.2984\n",
      "Epoch 2/5\n",
      "85/85 [==============================] - 12s 137ms/step - d_allele_categorical_accuracy: 0.0204 - d_end_mae: 193.0584 - d_start_mae: 275.9534 - j_allele_categorical_accuracy: 0.0853 - j_end_mae: 245.3757 - j_start_mae: 295.5459 - v_allele_categorical_accuracy: 0.0081 - v_end_mae: 7.3118 - v_start_mae: 41.1784 - loss: 22313.2402 - insec_loss: 315.5094 - mod3_mse_loss: 44310.7422 - total_classification_loss: 0.2225\n",
      "Epoch 3/5\n",
      "85/85 [==============================] - 12s 137ms/step - d_allele_categorical_accuracy: 0.0193 - d_end_mae: 99.8577 - d_start_mae: 222.1459 - j_allele_categorical_accuracy: 0.1051 - j_end_mae: 146.2164 - j_start_mae: 241.7722 - v_allele_categorical_accuracy: 0.0040 - v_end_mae: 5.4786 - v_start_mae: 13.2006 - loss: 12024.0449 - insec_loss: 540.8837 - mod3_mse_loss: 23506.9883 - total_classification_loss: 0.2215\n",
      "Epoch 4/5\n",
      "85/85 [==============================] - 12s 137ms/step - d_allele_categorical_accuracy: 0.0217 - d_end_mae: 38.7840 - d_start_mae: 178.4601 - j_allele_categorical_accuracy: 0.1184 - j_end_mae: 75.2612 - j_start_mae: 197.8379 - v_allele_categorical_accuracy: 0.0068 - v_end_mae: 5.2279 - v_start_mae: 5.3638 - loss: 6900.7554 - insec_loss: 611.7196 - mod3_mse_loss: 13189.5664 - total_classification_loss: 0.2208\n",
      "Epoch 5/5\n",
      "85/85 [==============================] - 12s 136ms/step - d_allele_categorical_accuracy: 0.0230 - d_end_mae: 8.3669 - d_start_mae: 141.3276 - j_allele_categorical_accuracy: 0.1994 - j_end_mae: 27.4745 - j_start_mae: 160.8490 - v_allele_categorical_accuracy: 0.0048 - v_end_mae: 8.5324 - v_start_mae: 5.3336 - loss: 4202.3315 - insec_loss: 522.2772 - mod3_mse_loss: 7882.1733 - total_classification_loss: 0.2116\n"
     ]
    }
   ],
   "source": [
    "trainer.train()"
   ]
  },
  {
   "cell_type": "code",
   "execution_count": 18,
   "id": "c2c5b786-811c-437c-8c79-d8b5d3b9f456",
   "metadata": {},
   "outputs": [],
   "source": [
    "from tqdm.auto import tqdm\n",
    "# for i in tqdm(range(10000)):\n",
    "#     next(g)\n",
    "#next(g)"
   ]
  },
  {
   "cell_type": "code",
   "execution_count": 77,
   "id": "50c19d8e-dddc-4d48-99ca-f7ffcb58b032",
   "metadata": {},
   "outputs": [],
   "source": [
    "train_dataset = trainer.train_dataset.get_train_dataset()\n",
    "train_dataset = train_dataset.prefetch(buffer_size=16)\n",
    "\n",
    "def preprocess_data(*args):\n",
    "    return args\n",
    "train_ds = train_dataset.map(\n",
    "    preprocess_data,\n",
    "    num_parallel_calls=8\n",
    ")"
   ]
  },
  {
   "cell_type": "code",
   "execution_count": 78,
   "id": "5e164636-58b0-46c7-bcc2-e897f31fdbe2",
   "metadata": {
    "tags": []
   },
   "outputs": [
    {
     "data": {
      "application/vnd.jupyter.widget-view+json": {
       "model_id": "9d026883f32b4ebfbd53eefd65827da4",
       "version_major": 2,
       "version_minor": 0
      },
      "text/plain": [
       "0it [00:00, ?it/s]"
      ]
     },
     "metadata": {},
     "output_type": "display_data"
    }
   ],
   "source": [
    "v_length = []\n",
    "v_start = []\n",
    "v_end = []\n",
    "r = tqdm(train_ds)\n",
    "for i in r:\n",
    "    Vl = (i[1]['v_end']-i[1]['v_start'])\n",
    "    v_length+= list(Vl.numpy())\n",
    "    v_start+= list(i[1]['v_start'].numpy())\n",
    "    v_end+= list(i[1]['v_end'].numpy())\n",
    "\n",
    "    r.set_postfix({'N':len(v_length)})\n",
    "    if len(v_length) > 30_000:\n",
    "        break"
   ]
  },
  {
   "cell_type": "code",
   "execution_count": 79,
   "id": "32f5f974-2a19-4f22-b55e-93b400563ae7",
   "metadata": {},
   "outputs": [
    {
     "data": {
      "image/png": "[encoded data removed]",
      "text/plain": [
       "<Figure size 1440x792 with 1 Axes>"
      ]
     },
     "metadata": {
      "needs_background": "light"
     },
     "output_type": "display_data"
    }
   ],
   "source": [
    "plt.hist(v_length)\n",
    "plt.xlabel('Generated V Length (After Modification)')\n",
    "plt.ylabel('Count')\n",
    "plt.grid(lw=2,ls=':')"
   ]
  },
  {
   "cell_type": "code",
   "execution_count": 81,
   "id": "e136fe72-56b9-4a3c-b368-bbd78861e0e0",
   "metadata": {},
   "outputs": [
    {
     "data": {
      "image/png": "[encoded data removed]",
      "text/plain": [
       "<Figure size 1440x792 with 1 Axes>"
      ]
     },
     "metadata": {
      "needs_background": "light"
     },
     "output_type": "display_data"
    }
   ],
   "source": [
    "plt.hist(v_start)\n",
    "plt.hist(v_end,alpha=0.3)\n",
    "#plt.xlabel('Generated V Length (After Modification)')\n",
    "plt.ylabel('Count')\n",
    "plt.grid(lw=2,ls=':')"
   ]
  },
  {
   "cell_type": "code",
   "execution_count": 7,
   "id": "ea90d746-b74b-4acd-8f97-e8080e3ca5e2",
   "metadata": {},
   "outputs": [],
   "source": [
    "ds = VDeepJUnbondedDatasetSingleBeam(nucleotide_add_coef=210,nucleotide_remove_coef=310,corrupt_proba=1,\n",
    "                             random_sequence_add_proba=0.45,\n",
    "                             single_base_stream_proba=0.05,\n",
    "                             duplicate_leading_proba=0.25,\n",
    "                             random_allele_proba=0.25)\n"
   ]
  },
  {
   "cell_type": "code",
   "execution_count": 4,
   "id": "cb7420bb-e2d4-44a3-a9d2-7293c31732b1",
   "metadata": {},
   "outputs": [
    {
     "data": {
      "text/plain": [
       "1    825\n",
       "2    770\n",
       "3    405\n",
       "dtype: int64"
      ]
     },
     "execution_count": 4,
     "metadata": {},
     "output_type": "execute_result"
    }
   ],
   "source": [
    "s = [ds.sequence_corruptor._sample_add_remove_distribution().item()  for i in range(2000)]\n",
    "pd.Series(s).value_counts()"
   ]
  },
  {
   "cell_type": "code",
   "execution_count": 21,
   "id": "dad57643-02d1-44ec-8845-4ba9a2fb308d",
   "metadata": {},
   "outputs": [],
   "source": [
    "seq_len = []\n",
    "removed = []\n",
    "amount = []\n",
    "pstart = []\n",
    "pend = []\n",
    "v_start = []\n",
    "j_end=[]\n",
    "v_end=[]\n",
    "d_start = []\n",
    "d_end = []\n",
    "j_start = []\n",
    "total_len = []\n",
    "seqs = []\n",
    "mut_seqs = []\n",
    "padded_seqs = []\n",
    "for i in range(10):\n",
    "    seq = ds.generate_single()\n",
    "    seq_len.append(seq.v_seq_end-seq.v_seq_start)\n",
    "    total_len.append(len(seq.mutated_seq))\n",
    "    ms,action,amount_changed = ds.sequence_corruptor._corrupt_sequence_beginning(seq.mutated_seq)\n",
    "    seqs.append(seq.mutated_seq)\n",
    "    mut_seqs.append(ms)\n",
    "    padded_array, start, end = ds.sequence_corruptor._process_and_dpad(ms, ds.sequence_corruptor.max_length)\n",
    "    padded_seqs.append(padded_array)\n",
    "    removed.append(action)\n",
    "    amount.append(amount_changed)\n",
    "    pstart.append(start)\n",
    "    pend.append(end)\n",
    "    \n",
    "    O_row = pd.Series({'v_sequence_start':seq.v_seq_start,'v_sequence_end':seq.v_seq_end,'d_sequence_start':seq.d_seq_start,'d_sequence_end':seq.d_seq_end,'j_sequence_start':seq.j_seq_start,'j_sequence_end':seq.j_seq_end})\n",
    "    \n",
    "    adjusted_v_start = None\n",
    "    adjusted_v_end = None\n",
    "    adjusted_d_start = None\n",
    "    adjusted_d_end = None\n",
    "    adjusted_j_start = None\n",
    "    adjusted_j_end = None\n",
    "    row = pd.Series({'v_sequence_start':seq.v_seq_start,'v_sequence_end':seq.v_seq_end,'d_sequence_start':seq.d_seq_start,'d_sequence_end':seq.d_seq_end,'j_sequence_start':seq.j_seq_start,'j_sequence_end':seq.j_seq_end})\n",
    "    if action == 1:  # remove only\n",
    "        amount_removed = amount_changed\n",
    "        adjusted_v_start = 0\n",
    "        adjusted_v_end = row.v_sequence_end - amount_removed\n",
    "        adjusted_d_start = row.d_sequence_start - amount_removed\n",
    "        adjusted_d_end = row.d_sequence_end - amount_removed\n",
    "        adjusted_j_start = row.j_sequence_start - amount_removed\n",
    "        adjusted_j_end = row.j_sequence_end - amount_removed\n",
    "\n",
    "    elif action == 2:  # add only:\n",
    "        amount_added = amount_changed\n",
    "        adjusted_v_start = amount_added\n",
    "        adjusted_v_end = row.v_sequence_end + amount_added\n",
    "        adjusted_d_start = row.d_sequence_start + amount_added\n",
    "        adjusted_d_end = row.d_sequence_end + amount_added\n",
    "        adjusted_j_start = row.j_sequence_start + amount_added\n",
    "        adjusted_j_end = row.j_sequence_end + amount_added\n",
    "\n",
    "    elif action == 3:  # remove and add\n",
    "        amount_added, amount_removed = amount_changed\n",
    "\n",
    "        adjusted_v_start = 0\n",
    "        adjusted_v_end = row.v_sequence_end - amount_removed\n",
    "        adjusted_d_start = row.d_sequence_start - amount_removed\n",
    "        adjusted_d_end = row.d_sequence_end - amount_removed\n",
    "        adjusted_j_start = row.j_sequence_start - amount_removed\n",
    "        adjusted_j_end = row.j_sequence_end - amount_removed\n",
    "\n",
    "        adjusted_v_start = adjusted_v_start + amount_added\n",
    "        adjusted_v_end = adjusted_v_end + amount_added\n",
    "        adjusted_d_start = adjusted_d_start + amount_added\n",
    "        adjusted_d_end = adjusted_d_end + amount_added\n",
    "        adjusted_j_start = adjusted_j_start + amount_added\n",
    "        adjusted_j_end = adjusted_j_end + amount_added\n",
    "\n",
    "\n",
    "    padded_array, start, end = ds.sequence_corruptor._process_and_dpad(ms, ds.sequence_corruptor.max_length)\n",
    "    pad_size = start\n",
    "    padded_seqs.append(padded_array)\n",
    "\n",
    "    adjusted_v_start+=pad_size\n",
    "    adjusted_v_end+=pad_size\n",
    "    adjusted_d_start+=pad_size\n",
    "    adjusted_d_end+=pad_size\n",
    "    adjusted_j_start+=pad_size\n",
    "    adjusted_j_end+=pad_size\n",
    "\n",
    "    v_start.append((O_row['v_sequence_start'],adjusted_v_start))\n",
    "    v_end.append((O_row['v_sequence_end'],adjusted_v_end))\n",
    "    d_start.append((O_row['d_sequence_start'],adjusted_d_start))\n",
    "    d_end.append((O_row['d_sequence_end'],adjusted_d_end))\n",
    "    j_start.append((O_row['j_sequence_start'],adjusted_j_start))\n",
    "    j_end.append((O_row['j_sequence_end'],adjusted_j_end))"
   ]
  },
  {
   "cell_type": "code",
   "execution_count": 24,
   "id": "44a791bf-5900-4f48-9bb6-03c10cd255d3",
   "metadata": {},
   "outputs": [
    {
     "data": {
      "text/plain": [
       "v_sequence_start      1\n",
       "v_sequence_end      296\n",
       "d_sequence_start    303\n",
       "d_sequence_end      306\n",
       "j_sequence_start    308\n",
       "j_sequence_end      352\n",
       "dtype: int64"
      ]
     },
     "execution_count": 24,
     "metadata": {},
     "output_type": "execute_result"
    }
   ],
   "source": [
    "row"
   ]
  },
  {
   "cell_type": "code",
   "execution_count": 22,
   "id": "d4e112cb-aade-4c8f-a219-cb130bb79117",
   "metadata": {},
   "outputs": [
    {
     "data": {
      "text/plain": [
       "array([3, 2, 2, 1, 4, 2, 4, 4, 1, 2, 4, 1, 3, 4, 1, 3, 2, 3, 1, 2, 2, 1,\n",
       "       4, 2, 1, 4, 2, 3, 3, 3, 3, 4, 2, 3, 3, 1, 2, 4, 4, 3, 3, 4, 1, 3,\n",
       "       4, 4, 4, 4, 4, 1, 3, 3, 3, 1, 1, 3, 3, 3, 3, 4, 2, 5, 3, 1, 3, 2,\n",
       "       3, 3, 1, 2, 2, 3, 3, 3, 1, 4, 2, 1, 2, 4, 2, 1, 2, 4, 1, 2, 1, 3,\n",
       "       2, 3, 3, 3, 1, 3, 4, 1, 4, 4, 2, 1, 4, 2, 1, 4, 1, 1, 4, 4, 4, 3,\n",
       "       2])"
      ]
     },
     "execution_count": 22,
     "metadata": {},
     "output_type": "execute_result"
    }
   ],
   "source": [
    "np.array(padded_seqs[2])[156:267]"
   ]
  },
  {
   "cell_type": "code",
   "execution_count": 23,
   "id": "d46a8afb-5ea7-48c1-87ef-a95c3a6f1469",
   "metadata": {
    "tags": []
   },
   "outputs": [
    {
     "data": {
      "text/html": [
       "<div>\n",
       "<style scoped>\n",
       "    .dataframe tbody tr th:only-of-type {\n",
       "        vertical-align: middle;\n",
       "    }\n",
       "\n",
       "    .dataframe tbody tr th {\n",
       "        vertical-align: top;\n",
       "    }\n",
       "\n",
       "    .dataframe thead th {\n",
       "        text-align: right;\n",
       "    }\n",
       "</style>\n",
       "<table border=\"1\" class=\"dataframe\">\n",
       "  <thead>\n",
       "    <tr style=\"text-align: right;\">\n",
       "      <th></th>\n",
       "      <th>orginal_full_len</th>\n",
       "      <th>original_length</th>\n",
       "      <th>action</th>\n",
       "      <th>amount</th>\n",
       "      <th>padded_start</th>\n",
       "      <th>padded_end</th>\n",
       "      <th>padded_v_start</th>\n",
       "      <th>padded_v_end</th>\n",
       "      <th>padded_d_start</th>\n",
       "      <th>padded_d_end</th>\n",
       "      <th>padded_j_start</th>\n",
       "      <th>padded_j_end</th>\n",
       "      <th>pad_size</th>\n",
       "    </tr>\n",
       "  </thead>\n",
       "  <tbody>\n",
       "    <tr>\n",
       "      <th>0</th>\n",
       "      <td>373</td>\n",
       "      <td>293</td>\n",
       "      <td>removed</td>\n",
       "      <td>21</td>\n",
       "      <td>80</td>\n",
       "      <td>431</td>\n",
       "      <td>(1, 80)</td>\n",
       "      <td>(294, 353)</td>\n",
       "      <td>(306, 365)</td>\n",
       "      <td>(316, 375)</td>\n",
       "      <td>(328, 387)</td>\n",
       "      <td>(373, 432)</td>\n",
       "      <td>69</td>\n",
       "    </tr>\n",
       "    <tr>\n",
       "      <th>1</th>\n",
       "      <td>358</td>\n",
       "      <td>291</td>\n",
       "      <td>added</td>\n",
       "      <td>6</td>\n",
       "      <td>74</td>\n",
       "      <td>437</td>\n",
       "      <td>(1, 80)</td>\n",
       "      <td>(292, 372)</td>\n",
       "      <td>(305, 385)</td>\n",
       "      <td>(313, 393)</td>\n",
       "      <td>(314, 394)</td>\n",
       "      <td>(358, 438)</td>\n",
       "      <td>77</td>\n",
       "    </tr>\n",
       "    <tr>\n",
       "      <th>2</th>\n",
       "      <td>376</td>\n",
       "      <td>290</td>\n",
       "      <td>added</td>\n",
       "      <td>99</td>\n",
       "      <td>19</td>\n",
       "      <td>494</td>\n",
       "      <td>(1, 118)</td>\n",
       "      <td>(291, 409)</td>\n",
       "      <td>(314, 432)</td>\n",
       "      <td>(327, 445)</td>\n",
       "      <td>(329, 447)</td>\n",
       "      <td>(376, 494)</td>\n",
       "      <td>68</td>\n",
       "    </tr>\n",
       "    <tr>\n",
       "      <th>3</th>\n",
       "      <td>367</td>\n",
       "      <td>292</td>\n",
       "      <td>removed</td>\n",
       "      <td>164</td>\n",
       "      <td>155</td>\n",
       "      <td>358</td>\n",
       "      <td>(1, 155)</td>\n",
       "      <td>(293, 284)</td>\n",
       "      <td>(301, 292)</td>\n",
       "      <td>(312, 303)</td>\n",
       "      <td>(315, 306)</td>\n",
       "      <td>(367, 358)</td>\n",
       "      <td>72</td>\n",
       "    </tr>\n",
       "    <tr>\n",
       "      <th>4</th>\n",
       "      <td>376</td>\n",
       "      <td>292</td>\n",
       "      <td>removed</td>\n",
       "      <td>19</td>\n",
       "      <td>78</td>\n",
       "      <td>435</td>\n",
       "      <td>(1, 78)</td>\n",
       "      <td>(293, 352)</td>\n",
       "      <td>(309, 368)</td>\n",
       "      <td>(333, 392)</td>\n",
       "      <td>(339, 398)</td>\n",
       "      <td>(376, 435)</td>\n",
       "      <td>68</td>\n",
       "    </tr>\n",
       "    <tr>\n",
       "      <th>5</th>\n",
       "      <td>388</td>\n",
       "      <td>295</td>\n",
       "      <td>added_removed</td>\n",
       "      <td>(10, 139)</td>\n",
       "      <td>127</td>\n",
       "      <td>386</td>\n",
       "      <td>(1, 137)</td>\n",
       "      <td>(296, 294)</td>\n",
       "      <td>(309, 307)</td>\n",
       "      <td>(337, 335)</td>\n",
       "      <td>(339, 337)</td>\n",
       "      <td>(388, 386)</td>\n",
       "      <td>62</td>\n",
       "    </tr>\n",
       "    <tr>\n",
       "      <th>6</th>\n",
       "      <td>349</td>\n",
       "      <td>288</td>\n",
       "      <td>added_removed</td>\n",
       "      <td>(6, 77)</td>\n",
       "      <td>117</td>\n",
       "      <td>394</td>\n",
       "      <td>(1, 123)</td>\n",
       "      <td>(289, 335)</td>\n",
       "      <td>(297, 343)</td>\n",
       "      <td>(304, 350)</td>\n",
       "      <td>(309, 355)</td>\n",
       "      <td>(349, 395)</td>\n",
       "      <td>81</td>\n",
       "    </tr>\n",
       "    <tr>\n",
       "      <th>7</th>\n",
       "      <td>385</td>\n",
       "      <td>295</td>\n",
       "      <td>added_removed</td>\n",
       "      <td>(6, 193)</td>\n",
       "      <td>157</td>\n",
       "      <td>354</td>\n",
       "      <td>(1, 163)</td>\n",
       "      <td>(296, 266)</td>\n",
       "      <td>(305, 275)</td>\n",
       "      <td>(328, 298)</td>\n",
       "      <td>(334, 304)</td>\n",
       "      <td>(385, 355)</td>\n",
       "      <td>63</td>\n",
       "    </tr>\n",
       "    <tr>\n",
       "      <th>8</th>\n",
       "      <td>370</td>\n",
       "      <td>295</td>\n",
       "      <td>removed</td>\n",
       "      <td>129</td>\n",
       "      <td>136</td>\n",
       "      <td>377</td>\n",
       "      <td>(1, 136)</td>\n",
       "      <td>(296, 303)</td>\n",
       "      <td>(301, 308)</td>\n",
       "      <td>(311, 318)</td>\n",
       "      <td>(319, 326)</td>\n",
       "      <td>(370, 377)</td>\n",
       "      <td>71</td>\n",
       "    </tr>\n",
       "    <tr>\n",
       "      <th>9</th>\n",
       "      <td>352</td>\n",
       "      <td>295</td>\n",
       "      <td>removed</td>\n",
       "      <td>169</td>\n",
       "      <td>165</td>\n",
       "      <td>348</td>\n",
       "      <td>(1, 165)</td>\n",
       "      <td>(296, 292)</td>\n",
       "      <td>(303, 299)</td>\n",
       "      <td>(306, 302)</td>\n",
       "      <td>(308, 304)</td>\n",
       "      <td>(352, 348)</td>\n",
       "      <td>80</td>\n",
       "    </tr>\n",
       "  </tbody>\n",
       "</table>\n",
       "</div>"
      ],
      "text/plain": [
       "   orginal_full_len  original_length         action     amount  padded_start  \\\n",
       "0               373              293        removed         21            80   \n",
       "1               358              291          added          6            74   \n",
       "2               376              290          added         99            19   \n",
       "3               367              292        removed        164           155   \n",
       "4               376              292        removed         19            78   \n",
       "5               388              295  added_removed  (10, 139)           127   \n",
       "6               349              288  added_removed    (6, 77)           117   \n",
       "7               385              295  added_removed   (6, 193)           157   \n",
       "8               370              295        removed        129           136   \n",
       "9               352              295        removed        169           165   \n",
       "\n",
       "   padded_end padded_v_start padded_v_end padded_d_start padded_d_end  \\\n",
       "0         431        (1, 80)   (294, 353)     (306, 365)   (316, 375)   \n",
       "1         437        (1, 80)   (292, 372)     (305, 385)   (313, 393)   \n",
       "2         494       (1, 118)   (291, 409)     (314, 432)   (327, 445)   \n",
       "3         358       (1, 155)   (293, 284)     (301, 292)   (312, 303)   \n",
       "4         435        (1, 78)   (293, 352)     (309, 368)   (333, 392)   \n",
       "5         386       (1, 137)   (296, 294)     (309, 307)   (337, 335)   \n",
       "6         394       (1, 123)   (289, 335)     (297, 343)   (304, 350)   \n",
       "7         354       (1, 163)   (296, 266)     (305, 275)   (328, 298)   \n",
       "8         377       (1, 136)   (296, 303)     (301, 308)   (311, 318)   \n",
       "9         348       (1, 165)   (296, 292)     (303, 299)   (306, 302)   \n",
       "\n",
       "  padded_j_start padded_j_end  pad_size  \n",
       "0     (328, 387)   (373, 432)        69  \n",
       "1     (314, 394)   (358, 438)        77  \n",
       "2     (329, 447)   (376, 494)        68  \n",
       "3     (315, 306)   (367, 358)        72  \n",
       "4     (339, 398)   (376, 435)        68  \n",
       "5     (339, 337)   (388, 386)        62  \n",
       "6     (309, 355)   (349, 395)        81  \n",
       "7     (334, 304)   (385, 355)        63  \n",
       "8     (319, 326)   (370, 377)        71  \n",
       "9     (308, 304)   (352, 348)        80  "
      ]
     },
     "execution_count": 23,
     "metadata": {},
     "output_type": "execute_result"
    }
   ],
   "source": [
    "rdf = pd.DataFrame({'orginal_full_len':total_len,'original_length':seq_len,'action':removed,'amount':amount,'padded_start':pstart,'padded_end':pend,\n",
    "                   'padded_v_start':v_start,'padded_v_end':v_end,'padded_d_start':d_start,'padded_d_end':d_end,'padded_j_start':j_start,'padded_j_end':j_end})\n",
    "\n",
    "rdf.action = rdf.action.map({1:'removed',2:'added',3:'added_removed'})\n",
    "rdf['pad_size'] = (512-rdf.orginal_full_len)//2\n",
    "rdf"
   ]
  },
  {
   "cell_type": "code",
   "execution_count": 206,
   "id": "66d0f90d-93c5-4a7d-b29f-918b7e02bc95",
   "metadata": {},
   "outputs": [
    {
     "data": {
      "text/plain": [
       "149888"
      ]
     },
     "execution_count": 206,
     "metadata": {},
     "output_type": "execute_result"
    }
   ],
   "source": [
    "128*1171"
   ]
  },
  {
   "cell_type": "code",
   "execution_count": 49,
   "id": "26b0bc6f-b823-4565-817e-4170f1c55754",
   "metadata": {},
   "outputs": [],
   "source": [
    "gseq = ds.generate_single()\n",
    "\n",
    "original_v_start = gseq.v_seq_start\n",
    "original_v_end = gseq.v_seq_end\n",
    "original_d_start = gseq.d_seq_start\n",
    "original_d_end = gseq.d_seq_end\n",
    "original_j_start = gseq.j_seq_start\n",
    "original_j_end = gseq.j_seq_end\n",
    "\n",
    "seq, was_removed, amount_changed = ds.sequence_corruptor._corrupt_sequence_beginning(\n",
    "    gseq.mutated_seq\n",
    ")\n",
    "\n",
    "\n",
    "padded_array, start, end = ds.sequence_corruptor._process_and_dpad(seq, ds.sequence_corruptor.max_length)\n",
    "#padded_sequences.append(padded_array)\n",
    "#PPPPPP_S_XXXXXXX_OS_GGGGGGG\n",
    "\n",
    "to_corrupt = 1\n",
    "if to_corrupt:\n",
    "    if was_removed:\n",
    "        # v is shorter\n",
    "        _adjust = start-amount_changed\n",
    "    else:\n",
    "        # v is longer\n",
    "        _adjust = start + amount_changed\n",
    "        start += amount_changed\n",
    "else:\n",
    "    _adjust = start"
   ]
  },
  {
   "cell_type": "code",
   "execution_count": 68,
   "id": "f4127ed2-3664-4c49-8e36-18ffca9fc2fd",
   "metadata": {},
   "outputs": [
    {
     "data": {
      "text/plain": [
       "<matplotlib.legend.Legend at 0x2768a1d2580>"
      ]
     },
     "execution_count": 68,
     "metadata": {},
     "output_type": "execute_result"
    },
    {
     "data": {
      "image/png": "[encoded data removed]",
      "text/plain": [
       "<Figure size 1440x1152 with 1 Axes>"
      ]
     },
     "metadata": {
      "needs_background": "light"
     },
     "output_type": "display_data"
    }
   ],
   "source": [
    "plt.figure(figsize=(20,16))\n",
    "\n",
    "# original\n",
    "plt.plot([original_v_start,original_j_end],[0,0],color='black',label='original')\n",
    "plt.plot([original_v_start,original_v_end],[0,0],color='tab:red',label='V')\n",
    "plt.plot([original_d_start,original_d_end],[0,0],color='tab:green',label='D')\n",
    "plt.plot([original_j_start,original_j_end],[0,0],color='tab:blue',label='J')\n",
    "#PADDED\n",
    "plt.plot([0,512],[-0.5,-0.5],color='black',label='padded',ls='--')\n",
    "#plt.plot([original_v_start,original_v_end],[0,0],color='tab:red',label='V')\n",
    "#plt.plot([original_d_start,original_d_end],[0,0],color='tab:green',label='D')\n",
    "#plt.plot([original_j_start,original_j_end],[0,0],color='tab:blue',label='J')\n",
    "\n",
    "plt.xticks([original_v_start,original_v_end,original_d_start,original_d_end,original_j_start,original_j_end],rotation=90)\n",
    "plt.grid(lw=2,ls=':')\n",
    "plt.legend()"
   ]
  },
  {
   "cell_type": "code",
   "execution_count": null,
   "id": "6171fb2a-1c85-4b0c-95d6-34eb0efc4971",
   "metadata": {},
   "outputs": [],
   "source": []
  },
  {
   "cell_type": "code",
   "execution_count": 10,
   "id": "86d24bdd-0a9c-4ddb-960f-66c0b629786f",
   "metadata": {},
   "outputs": [],
   "source": [
    "train_ds = ds.get_train_dataset().prefetch(16)"
   ]
  },
  {
   "cell_type": "code",
   "execution_count": 11,
   "id": "bb35f208-9aee-4f14-a23b-736f3168f316",
   "metadata": {
    "tags": []
   },
   "outputs": [],
   "source": [
    "#trainer.train()"
   ]
  },
  {
   "cell_type": "code",
   "execution_count": 12,
   "id": "e6697e39-6f54-4d41-95f1-1ac040e61bdb",
   "metadata": {},
   "outputs": [],
   "source": [
    "# train_ds = trainer.train_dataset.get_train_dataset()\n",
    "# single_batch = train_ds.take(1)\n"
   ]
  },
  {
   "cell_type": "code",
   "execution_count": 13,
   "id": "2661d7a0-120a-4466-955d-26adf11557a5",
   "metadata": {},
   "outputs": [],
   "source": [
    "#predicted = trainer.model.predict(single_batch)"
   ]
  },
  {
   "cell_type": "code",
   "execution_count": 14,
   "id": "a057c5d0-4cca-4b19-aa67-6ebc5d7ac6b7",
   "metadata": {},
   "outputs": [],
   "source": [
    "#sns.histplot([ds.sequence_corruptor._sample_nucleotide_remove_distribution(1) for _ in range(10000)])"
   ]
  },
  {
   "cell_type": "code",
   "execution_count": 30,
   "id": "bfcd2975-e00f-4bcb-a955-2cbf788968ae",
   "metadata": {},
   "outputs": [
    {
     "data": {
      "text/plain": [
       "array([1., 1., 1., 1., 1., 1., 1., 1., 1., 1., 1., 1., 1., 1., 1., 1., 1.,\n",
       "       1., 1., 1., 1., 1., 1., 1., 1., 1., 1., 1., 1., 1., 1., 1., 1., 1.,\n",
       "       1., 1., 1., 2., 1., 1., 1., 1., 1., 1., 1., 1., 1., 1., 2., 1., 1.,\n",
       "       1., 1., 1., 1., 1., 1., 1., 1., 1., 1., 1., 1., 1.])"
      ]
     },
     "execution_count": 30,
     "metadata": {},
     "output_type": "execute_result"
    }
   ],
   "source": [
    "y['v_allele'].sum(axis=1)"
   ]
  },
  {
   "cell_type": "code",
   "execution_count": 117,
   "id": "b161b3e3-cd9c-4d9f-b9bb-bdd1e58dd7d9",
   "metadata": {},
   "outputs": [],
   "source": [
    "allele_db = pd.read_csv('C:/Users/Tomas/Downloads/alleles_db.csv',index_col=2)"
   ]
  },
  {
   "cell_type": "code",
   "execution_count": 134,
   "id": "25eb2d46-953d-4f57-8c4b-18d65579b186",
   "metadata": {},
   "outputs": [
    {
     "data": {
      "text/html": [
       "<div>\n",
       "<style scoped>\n",
       "    .dataframe tbody tr th:only-of-type {\n",
       "        vertical-align: middle;\n",
       "    }\n",
       "\n",
       "    .dataframe tbody tr th {\n",
       "        vertical-align: top;\n",
       "    }\n",
       "\n",
       "    .dataframe thead th {\n",
       "        text-align: right;\n",
       "    }\n",
       "</style>\n",
       "<table border=\"1\" class=\"dataframe\">\n",
       "  <thead>\n",
       "    <tr style=\"text-align: right;\">\n",
       "      <th></th>\n",
       "      <th>new_allele</th>\n",
       "      <th>func_group</th>\n",
       "      <th>thresh</th>\n",
       "      <th>upper_range</th>\n",
       "    </tr>\n",
       "    <tr>\n",
       "      <th>imgt_allele</th>\n",
       "      <th></th>\n",
       "      <th></th>\n",
       "      <th></th>\n",
       "      <th></th>\n",
       "    </tr>\n",
       "  </thead>\n",
       "  <tbody>\n",
       "    <tr>\n",
       "      <th>IGHV4-39*01_G315A</th>\n",
       "      <td>IGHVF8-G45*06</td>\n",
       "      <td>IGHVF8-G45</td>\n",
       "      <td>0.005</td>\n",
       "      <td>318</td>\n",
       "    </tr>\n",
       "  </tbody>\n",
       "</table>\n",
       "</div>"
      ],
      "text/plain": [
       "                      new_allele  func_group  thresh  upper_range\n",
       "imgt_allele                                                      \n",
       "IGHV4-39*01_G315A  IGHVF8-G45*06  IGHVF8-G45   0.005          318"
      ]
     },
     "execution_count": 134,
     "metadata": {},
     "output_type": "execute_result"
    }
   ],
   "source": [
    "allele_db[allele_db['new_allele'] == 'IGHVF8-G45*06']"
   ]
  },
  {
   "cell_type": "code",
   "execution_count": 145,
   "id": "c31167bb-065e-469c-a9f5-105bac764758",
   "metadata": {},
   "outputs": [
    {
     "data": {
      "text/plain": [
       "new_allele     IGHVF8-G45*06\n",
       "func_group        IGHVF8-G45\n",
       "thresh                 0.005\n",
       "upper_range              318\n",
       "Name: IGHV4-39*01_G315A, dtype: object"
      ]
     },
     "execution_count": 145,
     "metadata": {},
     "output_type": "execute_result"
    }
   ],
   "source": [
    "allele_db.loc['IGHV4-39*01_G315A',:]"
   ]
  },
  {
   "cell_type": "code",
   "execution_count": 146,
   "id": "ea79ff07-4bd7-484d-a9b7-a4b36db13cb8",
   "metadata": {},
   "outputs": [],
   "source": [
    "from Bio import SeqIO\n",
    "input_file = open(\"C:/Users/Tomas/Downloads/V-QUEST_IMGT_V-QUEST_reference_directory_Homo_sapiens_IG_IGHV.fasta.txt\")\n",
    "my_dict = SeqIO.to_dict(SeqIO.parse(input_file, \"fasta\"))\n",
    "vquest = dict()\n",
    "for key in my_dict:\n",
    "    imgt_v = key.split('|')[1]\n",
    "    if imgt_v not in allele_db.index:\n",
    "        \n",
    "        continue\n",
    "        \n",
    "    \n",
    "    gapped_seq = str(my_dict[key].seq).upper()\n",
    "    splited  = my_dict[key].description.split('|')\n",
    "    \n",
    "    \n",
    "    aa = allele_db.loc[imgt_v,'new_allele']\n",
    "\n",
    "    vquest[imgt_v] = {'sequence':gapped_seq,\n",
    "                      'imgt_allele':aa,\n",
    "                     'F':splited[3],\n",
    "                     'pos':splited[5],\n",
    "                     'ungapped_length':int(splited[6].split(' ')[0]),\n",
    "                      'length_summary':splited[12]\n",
    "                     }"
   ]
  },
  {
   "cell_type": "code",
   "execution_count": 152,
   "id": "9e053a9b-2dda-421c-bc86-4fc7977beff3",
   "metadata": {},
   "outputs": [
    {
     "data": {
      "text/plain": [
       "{'sequence': 'CAGCTGCAGCTGCAGGAGTCGGGCCCA...GGACTGGTGAAGCCTTCGGAGACCCTGTCCCTCACCTGCACTGTCTCTGGTGGCTCCATCAGC......AGTAGTAGTTACTACTGGGGCTGGATCCGCCAGCCCCCAGGGAAGGGGCTGGAGTGGATTGGGAGTATCTATTATAGT.........GGGAGCACCTACTACAACCCGTCCCTCAAG...AGTCGAGTCACCATATCCGTAGACACGTCCAAGAACCAGTTCTCCCTGAAGCTGAGCTCTGTGACCGCCGCAGACACGGCTGTGTATTACTGTGCGAGACA',\n",
       " 'imgt_allele': 'IGHVF8-G45*07',\n",
       " 'F': 'F',\n",
       " 'pos': '11626..11924',\n",
       " 'ungapped_length': 299,\n",
       " 'length_summary': '299+21=320'}"
      ]
     },
     "execution_count": 152,
     "metadata": {},
     "output_type": "execute_result"
    }
   ],
   "source": [
    "# with open('E:/Immunobiology/AlignAIRR/vquest_allele_db.pkl','wb') as h:\n",
    "#     pickle.dump(vquest,h)\n",
    "\n",
    "vquest['IGHV4-39*01']"
   ]
  },
  {
   "cell_type": "code",
   "execution_count": 7,
   "id": "7bfbbc8c-8790-4218-9e88-bccb9831a04c",
   "metadata": {},
   "outputs": [],
   "source": [
    "def confidence_bound_search(pred, start=0, end=None, cb=0.95):\n",
    "    if end is None:\n",
    "        end = len(pred)\n",
    "\n",
    "    if start > end:\n",
    "        return end\n",
    "\n",
    "    mid = (start + end) // 2\n",
    "    sum_values = np.sum(pred[:mid])\n",
    "\n",
    "    if sum_values >= cb and (mid == 1 or np.sum(pred[:mid-1]) < cb):\n",
    "        return mid\n",
    "    elif sum_values >= cb:\n",
    "        return confidence_bound_search(pred, start, mid - 1, cb)\n",
    "    else:\n",
    "        return confidence_bound_search(pred, mid + 1, end, cb)\n",
    "    \n",
    "def confidence_bound(prediction,cb=0.95):\n",
    "    ast = np.argsort(prediction)[::-1]\n",
    "    return ast[:confidence_bound_search(prediction[ast],cb=cb)]\n"
   ]
  },
  {
   "cell_type": "code",
   "execution_count": 9,
   "id": "540c91d1-899e-4525-a6fa-1dcc0b20b915",
   "metadata": {},
   "outputs": [
    {
     "data": {
      "text/plain": [
       "'2.9.1'"
      ]
     },
     "execution_count": 9,
     "metadata": {},
     "output_type": "execute_result"
    }
   ],
   "source": [
    "tf.__version__"
   ]
  },
  {
   "cell_type": "code",
   "execution_count": 8,
   "id": "31c53c92-bc27-4f71-806a-97283af98d38",
   "metadata": {},
   "outputs": [
    {
     "data": {
      "text/plain": [
       "array([1, 2, 5, 4, 3], dtype=int64)"
      ]
     },
     "execution_count": 8,
     "metadata": {},
     "output_type": "execute_result"
    }
   ],
   "source": [
    "t = np.array([0.1,0.4,0.3,0.1,0.1,0.1])\n",
    "confidence_bound(t)"
   ]
  },
  {
   "cell_type": "code",
   "execution_count": 46,
   "id": "00b398ba-91ad-47b0-9dde-972a3d2b748b",
   "metadata": {},
   "outputs": [
    {
     "name": "stdout",
     "output_type": "stream",
     "text": [
      "Layer Index: 41   Layer Name:  <keras.layers.core.dense.Dense object at 0x000001931C6907F0> v_family_middle\n",
      "Max Value at Layer Weights:  nan\n",
      "============================================================\n",
      "Layer Index: 42   Layer Name:  <keras.layers.core.dense.Dense object at 0x000001931C690820> v_family\n",
      "Max Value at Layer Weights:  nan\n",
      "============================================================\n",
      "Layer Index: 44   Layer Name:  <keras.layers.core.dense.Dense object at 0x000001931CA561C0> v_gene_middle\n",
      "Max Value at Layer Weights:  nan\n",
      "============================================================\n",
      "Layer Index: 45   Layer Name:  <keras.layers.core.dense.Dense object at 0x000001931CA561F0> v_gene\n",
      "Max Value at Layer Weights:  nan\n",
      "============================================================\n",
      "Layer Index: 47   Layer Name:  <keras.layers.core.dense.Dense object at 0x000001931CA56B50> v_allele_middle\n",
      "Max Value at Layer Weights:  nan\n",
      "============================================================\n",
      "Layer Index: 48   Layer Name:  <keras.layers.core.dense.Dense object at 0x000001931CA56B80> v_allele\n",
      "Max Value at Layer Weights:  nan\n",
      "============================================================\n",
      "Layer Index: 50   Layer Name:  <keras.layers.core.dense.Dense object at 0x000001931CA5A520> v_gene_allele_distill\n",
      "Max Value at Layer Weights:  nan\n",
      "============================================================\n"
     ]
    }
   ],
   "source": [
    "for ex,i in enumerate(trainer.model.layers):\n",
    "    if type(i) == tf.keras.layers.Dense:\n",
    "        if (np.max(i.weights[0])) != (np.max(i.weights[0])):\n",
    "            print('Layer Index:',ex,'  Layer Name: ',i,i.name)\n",
    "            print('Max Value at Layer Weights: ',np.max(i.weights[0]))\n",
    "            print('=='*30)"
   ]
  },
  {
   "cell_type": "code",
   "execution_count": 77,
   "id": "2b28de22-ad8a-401b-adc4-d253613311be",
   "metadata": {},
   "outputs": [
    {
     "name": "stdout",
     "output_type": "stream",
     "text": [
      "conv1d_and__batch_norm 1.6361611 -1.6818296 -0.0006089428\n",
      "conv1d_and__batch_norm_1 1.3571036 -1.2683002 -0.01701276\n",
      "conv1d_and__batch_norm_2 1.2821836 -1.3980745 -0.0033327243\n",
      "conv1d_and__batch_norm_3 1.1993746 -1.0445809 -0.006815388\n",
      "conv1d_and__batch_norm_4 nan nan nan\n",
      "nan\n",
      "conv1d_and__batch_norm_4\n",
      "<VDeepJLayers.Conv1D_and_BatchNorm object at 0x00000192FA0A9D00>\n"
     ]
    }
   ],
   "source": [
    "for ex,i in enumerate(trainer.model.layers):\n",
    "    if len(i.weights) > 1:\n",
    "        print(i.name,np.max(i.weights[0]),np.min(i.weights[0]),np.median(i.weights[0]))\n",
    "        if np.max(i.weights[0]) != np.max(i.weights[0]):\n",
    "            print(np.max(i.weights[0]))\n",
    "            print(i.name)\n",
    "            print(i)\n",
    "            break"
   ]
  },
  {
   "cell_type": "code",
   "execution_count": 74,
   "id": "d48388b4-0f94-422f-872b-b6ad4b1c8291",
   "metadata": {},
   "outputs": [
    {
     "data": {
      "text/plain": [
       "nan"
      ]
     },
     "execution_count": 74,
     "metadata": {},
     "output_type": "execute_result"
    }
   ],
   "source": [
    "np.min(i.weights[0])"
   ]
  },
  {
   "cell_type": "code",
   "execution_count": 10,
   "id": "0eb71e13-67e3-4d80-88b5-921b74006536",
   "metadata": {},
   "outputs": [
    {
     "name": "stdout",
     "output_type": "stream",
     "text": [
      "157/157 [==============================] - 3s 12ms/step\n"
     ]
    }
   ],
   "source": [
    "precited = trainer.predict(r'E:\\igor_generated_5M\\test_set.tsv')"
   ]
  },
  {
   "cell_type": "code",
   "execution_count": 11,
   "id": "d8741031-3e75-4047-a679-4a8b4d84e5da",
   "metadata": {},
   "outputs": [
    {
     "name": "stdout",
     "output_type": "stream",
     "text": [
      "157/157 [==============================] - 2s 12ms/step\n"
     ]
    }
   ],
   "source": [
    "precited_pp = trainer.predict(r'E:\\igor_generated_5M\\test_set.tsv',raw=False,top_k=3)"
   ]
  },
  {
   "cell_type": "code",
   "execution_count": 12,
   "id": "776c3544-930f-449a-ad13-a24d8613e06e",
   "metadata": {},
   "outputs": [
    {
     "data": {
      "text/plain": [
       "array([0, 2, 1, 3], dtype=int64)"
      ]
     },
     "execution_count": 12,
     "metadata": {},
     "output_type": "execute_result"
    }
   ],
   "source": [
    "np.argsort(np.array([0,5,2,7]))"
   ]
  },
  {
   "cell_type": "code",
   "execution_count": 9,
   "id": "ded042d8-b9e4-4893-b0f9-db60a3063b55",
   "metadata": {},
   "outputs": [
    {
     "name": "stdout",
     "output_type": "stream",
     "text": [
      "Model Saved!\n",
      " Location: C:/Users/Tomas/Downloads/test/VDeepJModel_d25e4029-b0b0-4636-a4b4-3c339d120c28_weights\n"
     ]
    }
   ],
   "source": [
    "sn = trainer.save_model('C:/Users/Tomas/Downloads/test/')"
   ]
  },
  {
   "cell_type": "code",
   "execution_count": 10,
   "id": "347d3b9d-0071-490f-a655-b0710dcb5259",
   "metadata": {},
   "outputs": [
    {
     "name": "stdout",
     "output_type": "stream",
     "text": [
      "Dataset Object Saved at C:/Users/Tomas/Downloads/test/ds_object.ds\n"
     ]
    }
   ],
   "source": [
    "trainer.save_dataset_object('C:/Users/Tomas/Downloads/test/ds_object.ds')"
   ]
  },
  {
   "cell_type": "code",
   "execution_count": 12,
   "id": "74d289b7-b142-444c-a39b-3caef043ba1d",
   "metadata": {},
   "outputs": [
    {
     "name": "stdout",
     "output_type": "stream",
     "text": [
      "Keep in Mind no Dataset Was Loaded,\n",
      " Make Sure to Use \"load_dataset\" to Add a Train Dataset\n"
     ]
    }
   ],
   "source": [
    "lt = Trainer(VDeepJAllign,epochs=1,batch_size=64,verbose=1,\n",
    "                 log_to_file=True,log_file_name='log',log_file_path='C:/Users/Tomas/Downloads/')"
   ]
  },
  {
   "cell_type": "code",
   "execution_count": 13,
   "id": "9defcdbb-c5f8-40ac-81ed-f4a548c77a95",
   "metadata": {},
   "outputs": [],
   "source": [
    "lt.load_dataset_object('C:/Users/Tomas/Downloads/test/ds_object.ds')"
   ]
  },
  {
   "cell_type": "code",
   "execution_count": 14,
   "id": "1e0d6be5-466b-4479-b794-fb6572050f63",
   "metadata": {},
   "outputs": [],
   "source": [
    "#lt.load_dataset(r'E:\\igor_generated_5M\\test_set.tsv')\n",
    "lt.rebuild_model()"
   ]
  },
  {
   "cell_type": "code",
   "execution_count": 15,
   "id": "9a6741fd-513e-440c-87c4-9deb8ca1b2c4",
   "metadata": {},
   "outputs": [],
   "source": [
    "lt.load_model(sn)"
   ]
  },
  {
   "cell_type": "code",
   "execution_count": null,
   "id": "27eb8939-f903-456b-bc2a-b40d437f9f57",
   "metadata": {},
   "outputs": [],
   "source": []
  },
  {
   "cell_type": "code",
   "execution_count": 17,
   "id": "930ae759-eab4-4b7f-8597-15194952b676",
   "metadata": {},
   "outputs": [],
   "source": [
    "from VDeepJUnbondedDataset import global_genotype\n",
    "from Bio.SeqRecord import SeqRecord\n",
    "from Bio.Seq import Seq\n",
    "from Bio import AlignIO, SeqIO\n",
    "from Bio.Align.Applications import ClustalOmegaCommandline\n",
    "\n",
    "def allign_sequences(seqs):\n",
    "    sequences = [\n",
    "    SeqRecord(Seq(seq), id=f\"seq{en}\")\n",
    "    for en,seq in enumerate(seqs)\n",
    "    ]\n",
    "    SeqIO.write(sequences, r\"C:\\Users\\Tomas\\Downloads\\clustal-omega-1.2.2-win64\\clustal-omega-1.2.2-win64\\sequences.fasta\", \"fasta\")\n",
    "\n",
    "    # Define Clustal Omega command\n",
    "    clustalomega_cline = ClustalOmegaCommandline(infile=r\"C:\\Users\\Tomas\\Downloads\\clustal-omega-1.2.2-win64\\clustal-omega-1.2.2-win64\\sequences.fasta\",\n",
    "                                                 outfile=r\"C:\\Users\\Tomas\\Downloads\\clustal-omega-1.2.2-win64\\clustal-omega-1.2.2-win64\\aligned.fasta\", verbose=True, auto=True,force=True)\n",
    "    clustalomega_cline.program_name = r\"C:\\Users\\Tomas\\Downloads\\clustal-omega-1.2.2-win64\\clustal-omega-1.2.2-win64\\clustalo.exe\"\n",
    "    stdout, stderr = clustalomega_cline()\n",
    "\n",
    "    alignment = AlignIO.read(r\"C:\\Users\\Tomas\\Downloads\\clustal-omega-1.2.2-win64\\clustal-omega-1.2.2-win64\\aligned.fasta\", \"fasta\")\n",
    "    return alignment"
   ]
  },
  {
   "cell_type": "code",
   "execution_count": 61,
   "id": "c6d38231-2ea2-4441-a305-1f12d5eee532",
   "metadata": {},
   "outputs": [],
   "source": [
    "V_Alleles = global_genotype()[0]['V']\n",
    "V_Alleles = {i.name:i.ungapped_seq.upper() for i in V_Alleles}\n",
    "#V_Alleles"
   ]
  },
  {
   "cell_type": "code",
   "execution_count": 215,
   "id": "2eb6a04c-b834-4262-8a56-e7cacb088fae",
   "metadata": {},
   "outputs": [],
   "source": [
    "import pickle\n",
    "with open('E:/Immunobiology/AlignAIRR/V_Allele_F_dict.pkl','wb') as h:\n",
    "    pickle.dump(V_Alleles,h)"
   ]
  },
  {
   "cell_type": "code",
   "execution_count": 205,
   "id": "9fc9f75e-f467-4573-bc3a-b6fad4ad03bd",
   "metadata": {},
   "outputs": [],
   "source": [
    "allele_name = 'IGHVF5-G29*05'\n",
    "allele = V_Alleles[allele_name]\n",
    "allele = allele[250:]\n",
    "\n",
    "#seqs = [allele]+list(V_Alleles.values())\n",
    "#allingment = allign_sequences(seqs)"
   ]
  },
  {
   "cell_type": "code",
   "execution_count": 206,
   "id": "7e8d8c4d-fbdc-4e3d-8625-4a3fb55e374a",
   "metadata": {},
   "outputs": [],
   "source": [
    "# adf = pd.DataFrame(data=[list(str(i.seq)) for i in allingment],index=['T']+list(V_Alleles))\n",
    "# adf = adf.apply(lambda x: x == x.iloc[0],axis=0).iloc[1:,:]\n",
    "# mdf = adf.sum(axis=1)\n",
    "# mdf = ((mdf-mdf.min())/(mdf.max()-mdf.min())).sort_values(ascending=False)\n",
    "# mdf[mdf<0.85] = 0\n",
    "# mdf = mdf/mdf.sum()\n",
    "# mdf = mdf.to_dict()\n",
    "# #mdf"
   ]
  },
  {
   "cell_type": "code",
   "execution_count": 207,
   "id": "1e64b7d4-5266-4342-b747-20bb00b91fb6",
   "metadata": {},
   "outputs": [
    {
     "data": {
      "text/plain": [
       "IGHVF8-G36*10          0.973842\n",
       "IGHVF2-G17*06          0.973842\n",
       "IGHVF2-G17*02          0.973842\n",
       "IGHVF8-G37*03          0.973842\n",
       "IGHVF8-G36*02          0.973842\n",
       "IGHVF8-G36*07          0.973842\n",
       "IGHVF2-G17*03          0.973842\n",
       "IGHVF2-G8*02           0.973842\n",
       "IGHVF8-G39*02          0.973842\n",
       "IGHVF2-G8*03           0.973842\n",
       "IGHVF8-G36*06          0.973628\n",
       "IGHVF8-G36*05          0.973628\n",
       "IGHVF8-G36*04          0.973628\n",
       "IGHVF8-G36*03          0.973628\n",
       "IGHVF8-G36*08          0.973628\n",
       "IGHVF8-G36*09          0.973628\n",
       "IGHVF8-G36*01          0.973628\n",
       "IGHVF8-G37*01          0.973628\n",
       "IGHVF8-G37*02          0.973628\n",
       "IGHVF2-G17*01_G319C    0.973628\n",
       "IGHVF2-G17*07          0.973628\n",
       "IGHVF2-G17*08          0.973628\n",
       "IGHVF2-G17*04          0.973628\n",
       "IGHVF2-G17*09          0.973628\n",
       "IGHVF2-G17*05          0.973628\n",
       "IGHVF2-G17*01          0.973628\n",
       "IGHVF2-G8*04           0.973628\n",
       "IGHVF2-G8*06           0.973628\n",
       "IGHVF2-G17*10          0.973628\n",
       "IGHVF8-G39*05          0.973628\n",
       "IGHVF2-G8*01           0.973628\n",
       "IGHVF8-G38*01          0.973628\n",
       "IGHVF8-G38*02          0.973628\n",
       "IGHVF2-G8*05           0.973628\n",
       "IGHVF8-G39*03          0.973628\n",
       "IGHVF8-G39*04          0.973628\n",
       "IGHVF8-G39*01          0.973628\n",
       "IGHVF8-G39*06          0.973628\n",
       "dtype: float64"
      ]
     },
     "execution_count": 207,
     "metadata": {},
     "output_type": "execute_result"
    }
   ],
   "source": [
    "from Levenshtein import distance\n",
    "ldf = pd.Series([distance(allele,i) for i in list(V_Alleles.values())],index=list(V_Alleles)).sort_values(ascending=True)\n",
    "ldf = ldf[ldf<ldf.min()+3]\n",
    "1-ldf/ldf.sum()"
   ]
  },
  {
   "cell_type": "code",
   "execution_count": null,
   "id": "84388f4d-00fe-4721-bced-917daa9dc315",
   "metadata": {},
   "outputs": [],
   "source": []
  },
  {
   "cell_type": "code",
   "execution_count": 230,
   "id": "2d965a0e-2812-4055-ae77-7a4069bda20a",
   "metadata": {},
   "outputs": [],
   "source": [
    "import json\n",
    "with open('C:/Users/Tomas/Downloads/Hebrew (Israel).dic','r',encoding='utf8') as h:\n",
    "    hd = h.readlines()"
   ]
  },
  {
   "cell_type": "code",
   "execution_count": 243,
   "id": "237e3fa4-f811-4aeb-a2bf-d929701b246b",
   "metadata": {},
   "outputs": [
    {
     "data": {
      "text/plain": [
       "'הדגירתן/b'"
      ]
     },
     "execution_count": 243,
     "metadata": {},
     "output_type": "execute_result"
    }
   ],
   "source": [
    "hd[69221].strip()"
   ]
  },
  {
   "cell_type": "markdown",
   "id": "b5cc020f-ff17-4d87-b838-41798cf49d12",
   "metadata": {
    "tags": []
   },
   "source": [
    "# Local Predict"
   ]
  },
  {
   "cell_type": "code",
   "execution_count": 11,
   "id": "9234a317-688e-432f-a160-fb2322c1f28a",
   "metadata": {},
   "outputs": [],
   "source": [
    "from VDeepJModelExperimental import VDeepJAllignExperimentalSingleBeamRG\n",
    "from UnboundedTrainer import SingleBeamUnboundedTrainer\n",
    "from Trainer import Trainer\n",
    "import tensorflow as tf\n",
    "import pandas as pd"
   ]
  },
  {
   "cell_type": "code",
   "execution_count": 22,
   "id": "247269d8-f7be-4d1d-aca6-71a9da8a29d9",
   "metadata": {},
   "outputs": [
    {
     "data": {
      "text/plain": [
       "<tensorflow.python.training.tracking.util.CheckpointLoadStatus at 0x197ee464970>"
      ]
     },
     "execution_count": 22,
     "metadata": {},
     "output_type": "execute_result"
    }
   ],
   "source": [
    "trainer = SingleBeamUnboundedTrainer(\n",
    "    VDeepJAllignExperimentalSingleBeamRG,\n",
    "    epochs=10,\n",
    "    batch_size=512,\n",
    "    steps_per_epoch=150_000,\n",
    "    verbose=1,\n",
    "    corrupt_beginning=True,\n",
    "    classification_head_metric=[tf.keras.metrics.AUC(),tf.keras.metrics.AUC(),tf.keras.metrics.AUC()],\n",
    "    interval_head_metric=tf.keras.losses.mae,\n",
    "    corrupt_proba=0.7,\n",
    "    nucleotide_add_coef=210,\n",
    "    nucleotide_remove_coef=330, \n",
    "    random_sequence_add_proba=0.45,\n",
    "    single_base_stream_proba=0.05,\n",
    "    duplicate_leading_proba=0.25,\n",
    "    random_allele_proba=0.25,\n",
    "    num_parallel_calls=32,\n",
    "    log_to_file=True,\n",
    " \n",
    ")\n",
    "trainer.model.build({'tokenized_sequence':(512,1),'tokenized_sequence_for_masking':(512,1)})\n",
    "trainer.model.load_weights('E:\\\\Immunobiology\\\\AlignAIRR\\\\\\\\sf5_unbounded_experimental_mh_single_beam_RG_end_corrected_model')"
   ]
  },
  {
   "cell_type": "code",
   "execution_count": 34,
   "id": "066849a5-c639-4cfa-806c-a1898ec3eb95",
   "metadata": {},
   "outputs": [
    {
     "data": {
      "text/plain": [
       "[<tf.Variable 'dense_288/kernel:0' shape=(32, 128) dtype=float32, numpy=\n",
       " array([[-0.10547674, -0.1213193 , -0.11921278, ..., -0.18012495,\n",
       "         -0.12222057, -0.15646657],\n",
       "        [ 0.21479717,  0.2122579 ,  0.21812163, ...,  0.15355906,\n",
       "          0.20494106,  0.18368074],\n",
       "        [ 0.11354821,  0.11405726,  0.10831336, ...,  0.07855178,\n",
       "          0.11162061,  0.0848517 ],\n",
       "        ...,\n",
       "        [ 0.14708221,  0.13666108,  0.14167626, ...,  0.11332425,\n",
       "          0.14751396,  0.12857862],\n",
       "        [ 0.26064056,  0.25241867,  0.25122532, ...,  0.28175423,\n",
       "          0.24404632,  0.2726544 ],\n",
       "        [ 0.08761276,  0.06739614,  0.08969534, ...,  0.11358626,\n",
       "          0.07401233,  0.12397575]], dtype=float32)>,\n",
       " <tf.Variable 'dense_288/bias:0' shape=(128,) dtype=float32, numpy=\n",
       " array([ 0.15489855,  0.15943533,  0.12381807,  0.16732045,  0.18790315,\n",
       "         0.25114873,  0.16614072,  0.18511069,  0.17436512,  0.1705313 ,\n",
       "         0.1283442 ,  0.16373643,  0.12112317,  0.1764855 ,  0.19066514,\n",
       "         0.1487872 ,  0.09203839,  0.1918154 ,  0.15770175, -0.1210753 ,\n",
       "         0.17168888,  0.15887414, -0.05739653, -0.252387  ,  0.1789094 ,\n",
       "         0.16035186,  0.17565806,  0.14258204,  0.17843232,  0.15728317,\n",
       "         0.08621275,  0.14223252, -0.15445073,  0.1759282 ,  0.18008365,\n",
       "        -0.14835458,  0.17543302,  0.16309668,  0.15116489,  0.14636433,\n",
       "         0.14208403,  0.15517423,  0.16056265,  0.18611336,  0.17970194,\n",
       "        -0.11964571,  0.0998895 ,  0.17860363,  0.17261563, -0.34714   ,\n",
       "         0.18872319,  0.17374218,  0.16913557,  0.18798871,  0.18441644,\n",
       "         0.19158429,  0.17987637,  0.03038573,  0.17899911,  0.18050915,\n",
       "        -0.05250739,  0.14214446,  0.15791833,  0.17981434,  0.18387964,\n",
       "         0.16380537,  0.12275342,  0.16100922,  0.18166977,  0.08736498,\n",
       "         0.16282552,  0.17177413,  0.19114506,  0.14347444, -0.14020212,\n",
       "         0.13779855,  0.15825689,  0.16780941,  0.18637761,  0.1896523 ,\n",
       "         0.18012078, -0.35776156, -0.36898255,  0.18027931,  0.19001615,\n",
       "         0.17126486, -0.21146181,  0.1723448 ,  0.18739234,  0.18847017,\n",
       "         0.17951965,  0.19206987,  0.17444806,  0.14751622,  0.1872779 ,\n",
       "         0.14931409,  0.18496826, -0.11856337,  0.11787301,  0.17702019,\n",
       "         0.13880876, -0.3971097 ,  0.23043582,  0.18711609, -0.18441649,\n",
       "         0.10158361,  0.1480677 ,  0.1685807 ,  0.1835146 ,  0.17811252,\n",
       "         0.17866923,  0.17598367, -0.07808764,  0.16078612, -0.24142766,\n",
       "         0.13707073,  0.18680498,  0.1503853 ,  0.16189352, -0.1116923 ,\n",
       "         0.20145571,  0.16450225,  0.15090221,  0.15728426,  0.16397774,\n",
       "         0.18577987,  0.14799863,  0.17073378], dtype=float32)>]"
      ]
     },
     "execution_count": 34,
     "metadata": {},
     "output_type": "execute_result"
    }
   ],
   "source": [
    "trainer.model.v_start_mid.weights"
   ]
  },
  {
   "cell_type": "code",
   "execution_count": 27,
   "id": "63728619-2ab2-499f-a738-ae7386919929",
   "metadata": {},
   "outputs": [],
   "source": [
    "# import pickle\n",
    "# with open(r'E:\\Immunobiology\\AlignAIRR\\p1_p11_vdeepjexp_v3_V_PROCESSED.pkl','rb') as h:\n",
    "#     V = pickle.load(h)\n",
    "    "
   ]
  },
  {
   "cell_type": "code",
   "execution_count": null,
   "id": "3b65cf67-cde8-44b0-9744-93f65246d65f",
   "metadata": {},
   "outputs": [],
   "source": []
  },
  {
   "cell_type": "code",
   "execution_count": 42,
   "id": "3773f562-879e-467e-97ca-f07414fa5368",
   "metadata": {},
   "outputs": [],
   "source": [
    "eval_dataset_path = 'E:/Immunobiology/AlignAIRR/naive_sequences_s5f_rate_008_add_n.tsv'\n",
    "dataset = pd.read_table(eval_dataset_path)"
   ]
  },
  {
   "cell_type": "code",
   "execution_count": 24,
   "id": "2418c0aa-0317-4ca3-af5d-3a0ddabef83d",
   "metadata": {},
   "outputs": [],
   "source": [
    "origin_dataset =  pd.read_table('E:/Immunobiology/AlignAIRR/naive_sequences_clean.tsv',index_col=0)"
   ]
  },
  {
   "cell_type": "code",
   "execution_count": 32,
   "id": "cba83b7a-2fcd-4544-a6df-f992f75c9cd5",
   "metadata": {},
   "outputs": [],
   "source": [
    "origin_hits = [len(set(i)&set(j.split(','))) > 0 for i,j in zip(V,origin_dataset.v_call)]\n",
    "origin_hits = np.array(origin_hits)"
   ]
  },
  {
   "cell_type": "code",
   "execution_count": 33,
   "id": "d09d4c73-bfb2-479b-9fdd-43f34846668b",
   "metadata": {},
   "outputs": [],
   "source": [
    "origin_dataset = origin_dataset[origin_hits].copy()"
   ]
  },
  {
   "cell_type": "code",
   "execution_count": 43,
   "id": "f8493f9f-bbcf-40f1-b804-73821a43b907",
   "metadata": {},
   "outputs": [],
   "source": [
    "dataset_ = dataset.loc[origin_dataset.index,:].copy()"
   ]
  },
  {
   "cell_type": "code",
   "execution_count": 44,
   "id": "feaaa3bc-fa83-4316-b947-4ac7c6209fdb",
   "metadata": {},
   "outputs": [
    {
     "data": {
      "text/plain": [
       "1.0"
      ]
     },
     "execution_count": 44,
     "metadata": {},
     "output_type": "execute_result"
    }
   ],
   "source": [
    "(origin_dataset.v_call == dataset_.v_call).sum()/len(dataset_)"
   ]
  },
  {
   "cell_type": "code",
   "execution_count": null,
   "id": "74167fe6-18cb-4441-a405-1fc517b0d73c",
   "metadata": {},
   "outputs": [],
   "source": [
    "pd.read"
   ]
  },
  {
   "cell_type": "code",
   "execution_count": 25,
   "id": "4ae1a5e3-e075-46fb-9ea0-19659eadfe26",
   "metadata": {},
   "outputs": [
    {
     "name": "stdout",
     "output_type": "stream",
     "text": [
      "5390/5390 [==============================] - 1693s 313ms/step\n"
     ]
    }
   ],
   "source": [
    "#eval_dataset_path = 'E:/Immunobiology/AlignAIRR/naive_sequences_s5f_rate_008_add_n.tsv'\n",
    "#dataset = pd.read_table(eval_dataset_path)\n",
    "eval_dataset = origin_dataset['sequence']\n",
    "eval_dataset = eval_dataset.str.replace('-','')\n",
    "\n",
    "eval_dataset_ = trainer.train_dataset.tokenize_sequences(eval_dataset)\n",
    "padded_seqs_tensor = tf.convert_to_tensor(eval_dataset_, dtype=tf.int32)\n",
    "dataset_from_tensors = tf.data.Dataset.from_tensor_slices({\n",
    "    'tokenized_sequence': padded_seqs_tensor,\n",
    "    'tokenized_sequence_for_masking': padded_seqs_tensor\n",
    "})\n",
    "dataset = (\n",
    "    dataset_from_tensors\n",
    "    .batch(512)\n",
    "    .prefetch(tf.data.AUTOTUNE)\n",
    ")\n",
    "\n",
    "predicted = trainer.model.predict(dataset, verbose=True)"
   ]
  },
  {
   "cell_type": "code",
   "execution_count": 31,
   "id": "e9880ad1-a248-4c67-bffd-de7bcc4f4d58",
   "metadata": {},
   "outputs": [],
   "source": [
    "# import pickle\n",
    "# with open(r'E:\\Immunobiology\\AlignAIRR\\p1_p11_s5f_noise008_sf5_unbounded_experimental_mh_single_beam_RG_end_corrected_model.pkl','wb') as h:\n",
    "#     pickle.dump(predicted,h)"
   ]
  },
  {
   "cell_type": "code",
   "execution_count": null,
   "id": "2b30515e-f55a-4a6d-a785-7957cd6ea1a8",
   "metadata": {},
   "outputs": [],
   "source": []
  },
  {
   "cell_type": "code",
   "execution_count": 74,
   "id": "c3210471-8def-4a69-8d03-5a8f7af0eedb",
   "metadata": {},
   "outputs": [],
   "source": [
    "from VDeepJUnbondedDataset import global_genotype\n",
    "\n",
    "locus = global_genotype()\n",
    "v_dict = {i.name: i.ungapped_seq.upper() for i in locus[0]['V']}\n",
    "d_dict = {i.name: i.ungapped_seq.upper() for i in locus[0]['D']}\n",
    "j_dict = {i.name: i.ungapped_seq.upper() for i in locus[0]['J']}\n",
    "        \n",
    "v_alleles = sorted(list(v_dict))\n",
    "d_alleles = sorted(list(d_dict))\n",
    "j_alleles = sorted(list(j_dict))\n",
    "\n",
    "v_allele_count = len(v_alleles)\n",
    "d_allele_count = len(d_alleles)\n",
    "j_allele_count = len(j_alleles)\n",
    "\n",
    "\n",
    "v_allele_call_ohe = {f: i for i, f in enumerate(v_alleles)}\n",
    "d_allele_call_ohe = {f: i for i, f in enumerate(d_alleles)}\n",
    "j_allele_call_ohe = {f: i for i, f in enumerate(j_alleles)}\n",
    "\n",
    "v_allele_call_rev_ohe = {i: f for i, f in enumerate(v_alleles)}\n",
    "d_allele_call_rev_ohe = {i: f for i, f in enumerate(d_alleles)}\n",
    "j_allele_call_rev_ohe = {i: f for i, f in enumerate(j_alleles)}\n",
    "\n",
    "def encode_igb_v_call(v_call):\n",
    "    v = np.zeros(len(v_allele_call_rev_ohe))\n",
    "    for i in v_call.split(','):\n",
    "        v[v_allele_call_ohe[i]] = 1\n",
    "    return v"
   ]
  },
  {
   "cell_type": "code",
   "execution_count": 35,
   "id": "33705ccf-29f0-4375-ad05-1cd5da462169",
   "metadata": {},
   "outputs": [],
   "source": [
    "with open('E:/Immunobiology/AlignAIRR/calibration_set_1500_single_beam.pkl','rb') as h:\n",
    "    calibset = pickle.load(h)"
   ]
  },
  {
   "cell_type": "code",
   "execution_count": 41,
   "id": "e108424f-986e-4a96-9adb-850b04ad25d0",
   "metadata": {},
   "outputs": [
    {
     "name": "stdout",
     "output_type": "stream",
     "text": [
      "821/821 [==============================] - 259s 315ms/step\n"
     ]
    }
   ],
   "source": [
    "padded_seqs_tensor = tf.convert_to_tensor(calibset[0], dtype=tf.int32)\n",
    "dataset_from_tensors = tf.data.Dataset.from_tensor_slices({\n",
    "    'tokenized_sequence': padded_seqs_tensor,\n",
    "    'tokenized_sequence_for_masking': padded_seqs_tensor\n",
    "})\n",
    "dataset = (\n",
    "    dataset_from_tensors\n",
    "    .batch(512)\n",
    "    .prefetch(tf.data.AUTOTUNE)\n",
    ")\n",
    "\n",
    "calib_predicted = trainer.model.predict(dataset, verbose=True)"
   ]
  },
  {
   "cell_type": "code",
   "execution_count": 72,
   "id": "1b25ae37-b5d6-4cc3-9381-3440f559f4b5",
   "metadata": {},
   "outputs": [
    {
     "data": {
      "text/plain": [
       "1.0"
      ]
     },
     "execution_count": 72,
     "metadata": {},
     "output_type": "execute_result"
    }
   ],
   "source": [
    "calibset[1][:280].sum(axis=0).max()"
   ]
  },
  {
   "cell_type": "code",
   "execution_count": 73,
   "id": "6c42a963-29dd-463a-8ff6-905941c22df2",
   "metadata": {},
   "outputs": [
    {
     "data": {
      "text/plain": [
       "<AxesSubplot:>"
      ]
     },
     "execution_count": 73,
     "metadata": {},
     "output_type": "execute_result"
    },
    {
     "data": {
      "image/png": "[encoded data removed]",
      "text/plain": [
       "<Figure size 1440x792 with 2 Axes>"
      ]
     },
     "metadata": {
      "needs_background": "light"
     },
     "output_type": "display_data"
    }
   ],
   "source": [
    "sns.heatmap(calibset[1][:280,:])"
   ]
  },
  {
   "cell_type": "code",
   "execution_count": 54,
   "id": "5c065d18-178e-4b39-97ea-faeb15b146a2",
   "metadata": {},
   "outputs": [
    {
     "data": {
      "text/plain": [
       "<AxesSubplot:>"
      ]
     },
     "execution_count": 54,
     "metadata": {},
     "output_type": "execute_result"
    },
    {
     "data": {
      "image/png": "[encoded data removed]",
      "text/plain": [
       "<Figure size 1440x792 with 2 Axes>"
      ]
     },
     "metadata": {
      "needs_background": "light"
     },
     "output_type": "display_data"
    }
   ],
   "source": [
    "sns.heatmap(calib_predicted['v_allele'][:1500])"
   ]
  },
  {
   "cell_type": "code",
   "execution_count": 57,
   "id": "ba37e0f9-1b07-4ccb-8aa9-d8cb530564da",
   "metadata": {},
   "outputs": [],
   "source": [
    "alignairr_predicted=predicted"
   ]
  },
  {
   "cell_type": "code",
   "execution_count": 56,
   "id": "f6c6ac05-e249-4e3f-a0af-5b51bc6dbabf",
   "metadata": {},
   "outputs": [],
   "source": [
    "from VDeepJUnbondedDataset import VDeepJUnbondedDataset\n",
    "from VDeepJDataset import VDeepJDataset\n",
    "vdj_dataset = VDeepJDataset(r\"E:\\Immunobiology\\AlignAIRR\\naive_sequences_clean.tsv\")"
   ]
  },
  {
   "cell_type": "code",
   "execution_count": 58,
   "id": "9187bf0f-46a8-41ec-98d4-ae47857e34fc",
   "metadata": {},
   "outputs": [],
   "source": [
    "\n",
    "def log_threshold(prediction,th=0.15):\n",
    "    ast = np.argsort(prediction)[::-1]\n",
    "    R = [ast[0]]\n",
    "    for ip in range(1,len(ast)):\n",
    "        DIFF = (prediction[ast[ip-1]]/prediction[ast[ip]])\n",
    "        if DIFF<th:\n",
    "            R.append(ast[ip])\n",
    "        else:\n",
    "            break\n",
    "    return R\n",
    "def preprocess_v_pred(v_family,v_gene,softmax,th=0.15):\n",
    "    v_family_ = vdj_dataset.reverse_ohe_mapping['v_family'][np.argmax(v_family)]\n",
    "        \n",
    "    genes = list(vdj_dataset.call_sub_classes_map['V'][v_family_].keys())\n",
    "    mask = np.zeros_like(v_gene)\n",
    "    for a in genes:\n",
    "        mask[vdj_dataset.v_gene_call_ohe[a]] = 1\n",
    "    maksed_genes = v_gene*mask\n",
    "    maksed_genes /=maksed_genes.sum()\n",
    "\n",
    "    v_gene_ = vdj_dataset.reverse_ohe_mapping['v_gene'][np.argmax(maksed_genes)]\n",
    "\n",
    "    alleles = vdj_dataset.call_sub_classes_map['V'][v_family_][v_gene_]\n",
    "\n",
    "    mask = np.zeros_like(softmax)\n",
    "    for a in alleles:\n",
    "        mask[vdj_dataset.v_allele_call_ohe[a]] = 1\n",
    "    maksed_softmax = softmax*mask\n",
    "    maksed_softmax /=maksed_softmax.sum()\n",
    "\n",
    "    cb_alleles = log_threshold(maksed_softmax,th=th)\n",
    "    cb_alleles = [vdj_dataset.reverse_ohe_mapping['v_allele'][i] for i in cb_alleles]\n",
    "    return [v_family_+'-'+v_gene_+'*'+i for i in cb_alleles]\n"
   ]
  },
  {
   "cell_type": "code",
   "execution_count": null,
   "id": "b659affc-5bac-4c47-887c-79be9f0a8ac1",
   "metadata": {},
   "outputs": [],
   "source": [
    "J = []\n",
    "for v_gen,v_all in tqdm(zip(alignairr_predicted['j_gene'],alignairr_predicted['j_allele'])):\n",
    "    j_alleles  = preprocess_j_pred(v_gene=v_gen,softmax=v_all)\n",
    "    J.append(j_alleles)"
   ]
  },
  {
   "cell_type": "code",
   "execution_count": 200,
   "id": "42eca558-52ae-4960-a86b-b640bb166c1a",
   "metadata": {},
   "outputs": [],
   "source": [
    "hits = [len(set(i)&set(j.split(','))) > 0 for i,j in zip(V,vdj_dataset.data.v_call)]"
   ]
  },
  {
   "cell_type": "code",
   "execution_count": 207,
   "id": "15eddc80-ae22-49d7-ab29-540f388b3a3f",
   "metadata": {},
   "outputs": [],
   "source": [
    "hits_list = [hits]"
   ]
  },
  {
   "cell_type": "code",
   "execution_count": 201,
   "id": "12d3247f-8fe5-45b9-be03-6e94569a6076",
   "metadata": {},
   "outputs": [
    {
     "data": {
      "text/plain": [
       "0.9640786638809713"
      ]
     },
     "execution_count": 201,
     "metadata": {},
     "output_type": "execute_result"
    }
   ],
   "source": [
    "sum(hits)/len(hits)"
   ]
  },
  {
   "cell_type": "code",
   "execution_count": 208,
   "id": "35d832f0-667a-4381-bfce-3a1136ccfb6a",
   "metadata": {},
   "outputs": [
    {
     "data": {
      "application/vnd.jupyter.widget-view+json": {
       "model_id": "02985071eb5748c9b855df9d334a47dd",
       "version_major": 2,
       "version_minor": 0
      },
      "text/plain": [
       "  0%|          | 0/5 [00:00<?, ?it/s]"
      ]
     },
     "metadata": {},
     "output_type": "display_data"
    }
   ],
   "source": [
    "# import os\n",
    "# import pickle\n",
    "\n",
    "# for file in tqdm([i for i in os.listdir('E:/Immunobiology/AlignAIRR/') if 'TH' in i]):\n",
    "#     with open(f\"E:/Immunobiology/AlignAIRR/{file}\",'rb') as h:\n",
    "#         V,D,J,alignairr_predicted = pickle.load(h)\n",
    "#         hits = [len(set(i)&set(j.split(','))) > 0 for i,j in zip(V,vdj_dataset.data.v_call)]\n",
    "#         hits_list.append(hits)"
   ]
  },
  {
   "cell_type": "code",
   "execution_count": 212,
   "id": "d1713604-892c-4ecb-a2ba-1d7fe1344dd9",
   "metadata": {},
   "outputs": [],
   "source": [
    "pdf = pd.DataFrame({f'model_{en}':i for en,i in enumerate(hits_list)})"
   ]
  },
  {
   "cell_type": "code",
   "execution_count": 216,
   "id": "c3e1d955-3cf0-4548-a3b4-aaf9969a7228",
   "metadata": {},
   "outputs": [],
   "source": [
    "pdf['hit_sum'] = pdf.sum(axis=1)"
   ]
  },
  {
   "cell_type": "code",
   "execution_count": 222,
   "id": "46c78ae9-ee35-4e67-9e0c-d750aa5fbec7",
   "metadata": {},
   "outputs": [],
   "source": [
    "bad_df = pdf[(~pdf.model_5) & (pdf.hit_sum < 4) ]"
   ]
  },
  {
   "cell_type": "code",
   "execution_count": 229,
   "id": "f2c4d217-5b08-4702-bef5-87472d5b403a",
   "metadata": {},
   "outputs": [],
   "source": [
    "bad_data = vdj_dataset.data.loc[bad_df.index,:].copy()"
   ]
  },
  {
   "cell_type": "code",
   "execution_count": 232,
   "id": "e66b4b4b-9a58-44e0-9999-b4cadb4b98a6",
   "metadata": {},
   "outputs": [
    {
     "data": {
      "text/html": [
       "<div>\n",
       "<style scoped>\n",
       "    .dataframe tbody tr th:only-of-type {\n",
       "        vertical-align: middle;\n",
       "    }\n",
       "\n",
       "    .dataframe tbody tr th {\n",
       "        vertical-align: top;\n",
       "    }\n",
       "\n",
       "    .dataframe thead th {\n",
       "        text-align: right;\n",
       "    }\n",
       "</style>\n",
       "<table border=\"1\" class=\"dataframe\">\n",
       "  <thead>\n",
       "    <tr style=\"text-align: right;\">\n",
       "      <th></th>\n",
       "      <th>sequence</th>\n",
       "      <th>v_sequence_start</th>\n",
       "      <th>v_sequence_end</th>\n",
       "      <th>d_sequence_start</th>\n",
       "      <th>d_sequence_end</th>\n",
       "      <th>j_sequence_start</th>\n",
       "      <th>j_sequence_end</th>\n",
       "      <th>v_call</th>\n",
       "      <th>d_call</th>\n",
       "      <th>j_call</th>\n",
       "    </tr>\n",
       "  </thead>\n",
       "  <tbody>\n",
       "    <tr>\n",
       "      <th>80</th>\n",
       "      <td>GCTGGGAGAGGAGCCCCAGGCCCGGGATTCCCAGGTGTTTCCATTC...</td>\n",
       "      <td>135</td>\n",
       "      <td>429</td>\n",
       "      <td>430.0</td>\n",
       "      <td>434.0</td>\n",
       "      <td>435</td>\n",
       "      <td>483</td>\n",
       "      <td>IGHVF2-G15*05</td>\n",
       "      <td>IGHD3-10*01,IGHD3-10*02</td>\n",
       "      <td>IGHJ3*02</td>\n",
       "    </tr>\n",
       "    <tr>\n",
       "      <th>81</th>\n",
       "      <td>GCTTTCTGAGAGTCATGGATCTCATGTGCAAGAAAATGAAGCACCT...</td>\n",
       "      <td>151</td>\n",
       "      <td>244</td>\n",
       "      <td>259.0</td>\n",
       "      <td>267.0</td>\n",
       "      <td>272</td>\n",
       "      <td>332</td>\n",
       "      <td>IGHVF8-G45*04,IGHVF8-G45*07</td>\n",
       "      <td>IGHD2-2*01,IGHD2-2*02,IGHD2-2*03</td>\n",
       "      <td>IGHJ6*03</td>\n",
       "    </tr>\n",
       "    <tr>\n",
       "      <th>144</th>\n",
       "      <td>GAGAGAGGAGCCTTAGCCCTGGATTCCAAGGCCTATCCACTTGGTG...</td>\n",
       "      <td>131</td>\n",
       "      <td>425</td>\n",
       "      <td>NaN</td>\n",
       "      <td>NaN</td>\n",
       "      <td>432</td>\n",
       "      <td>476</td>\n",
       "      <td>IGHVF2-G11*06</td>\n",
       "      <td>NaN</td>\n",
       "      <td>IGHJ4*02</td>\n",
       "    </tr>\n",
       "    <tr>\n",
       "      <th>155</th>\n",
       "      <td>ACCATGGACTGTACCTGGGGGATCCTCTTCTTGGTGGCAGCTGCCA...</td>\n",
       "      <td>61</td>\n",
       "      <td>356</td>\n",
       "      <td>374.0</td>\n",
       "      <td>400.0</td>\n",
       "      <td>428</td>\n",
       "      <td>464</td>\n",
       "      <td>IGHVF5-G29*03,IGHVF5-G29*05,IGHVF5-G29*06</td>\n",
       "      <td>IGHD2-8*01</td>\n",
       "      <td>IGHJ4*02</td>\n",
       "    </tr>\n",
       "    <tr>\n",
       "      <th>207</th>\n",
       "      <td>GAAGGAGCAAAAAAAAAGATCTACGGGGATCACATAACTACGCACA...</td>\n",
       "      <td>36</td>\n",
       "      <td>154</td>\n",
       "      <td>160.0</td>\n",
       "      <td>175.0</td>\n",
       "      <td>182</td>\n",
       "      <td>239</td>\n",
       "      <td>IGHVF5-G26*01,IGHVF5-G26*02,IGHVF5-G26*03,IGHV...</td>\n",
       "      <td>IGHD4-17*01</td>\n",
       "      <td>IGHJ6*03</td>\n",
       "    </tr>\n",
       "    <tr>\n",
       "      <th>...</th>\n",
       "      <td>...</td>\n",
       "      <td>...</td>\n",
       "      <td>...</td>\n",
       "      <td>...</td>\n",
       "      <td>...</td>\n",
       "      <td>...</td>\n",
       "      <td>...</td>\n",
       "      <td>...</td>\n",
       "      <td>...</td>\n",
       "      <td>...</td>\n",
       "    </tr>\n",
       "    <tr>\n",
       "      <th>2759315</th>\n",
       "      <td>GAGCTCTGGGAGAGGAGCCCCAGCCTTGGGATTCCCAAGTGTTTTC...</td>\n",
       "      <td>140</td>\n",
       "      <td>432</td>\n",
       "      <td>435.0</td>\n",
       "      <td>440.0</td>\n",
       "      <td>442</td>\n",
       "      <td>487</td>\n",
       "      <td>IGHVF2-G10*01</td>\n",
       "      <td>IGHD1-26*01,IGHD7-27*01</td>\n",
       "      <td>IGHJ4*02</td>\n",
       "    </tr>\n",
       "    <tr>\n",
       "      <th>2759317</th>\n",
       "      <td>GGCACTGGAAGTCGCCGGTGTTTCCATTCGGTGATCAGCACTGAAC...</td>\n",
       "      <td>119</td>\n",
       "      <td>393</td>\n",
       "      <td>NaN</td>\n",
       "      <td>NaN</td>\n",
       "      <td>409</td>\n",
       "      <td>449</td>\n",
       "      <td>IGHVF2-G14*13</td>\n",
       "      <td>NaN</td>\n",
       "      <td>IGHJ4*02</td>\n",
       "    </tr>\n",
       "    <tr>\n",
       "      <th>2759321</th>\n",
       "      <td>GGAGAGAGGAGCCTTAGCCCTGGATTCCAAGGCCTATCCACTTGGT...</td>\n",
       "      <td>132</td>\n",
       "      <td>426</td>\n",
       "      <td>434.0</td>\n",
       "      <td>441.0</td>\n",
       "      <td>450</td>\n",
       "      <td>487</td>\n",
       "      <td>IGHVF2-G18*02</td>\n",
       "      <td>IGHD2-21*02,IGHD6-19*01</td>\n",
       "      <td>IGHJ3*02</td>\n",
       "    </tr>\n",
       "    <tr>\n",
       "      <th>2759322</th>\n",
       "      <td>GAGCTCTGAGAGAGGAGCCTTAGCCCTGGATTCCAAGGCCTATCCA...</td>\n",
       "      <td>139</td>\n",
       "      <td>432</td>\n",
       "      <td>NaN</td>\n",
       "      <td>NaN</td>\n",
       "      <td>442</td>\n",
       "      <td>484</td>\n",
       "      <td>IGHVF2-G11*06</td>\n",
       "      <td>NaN</td>\n",
       "      <td>IGHJ4*02</td>\n",
       "    </tr>\n",
       "    <tr>\n",
       "      <th>2759323</th>\n",
       "      <td>GGGGGAGAGGAGCCCAGCACTGGGATTCCGAGGTGTTTCCATTCGG...</td>\n",
       "      <td>134</td>\n",
       "      <td>424</td>\n",
       "      <td>428.0</td>\n",
       "      <td>432.0</td>\n",
       "      <td>441</td>\n",
       "      <td>480</td>\n",
       "      <td>IGHVF2-G10*01</td>\n",
       "      <td>IGHD1-1*01,IGHD1-20*01,IGHD4-17*01</td>\n",
       "      <td>IGHJ4*02</td>\n",
       "    </tr>\n",
       "  </tbody>\n",
       "</table>\n",
       "<p>114946 rows × 10 columns</p>\n",
       "</div>"
      ],
      "text/plain": [
       "                                                  sequence  v_sequence_start  \\\n",
       "80       GCTGGGAGAGGAGCCCCAGGCCCGGGATTCCCAGGTGTTTCCATTC...               135   \n",
       "81       GCTTTCTGAGAGTCATGGATCTCATGTGCAAGAAAATGAAGCACCT...               151   \n",
       "144      GAGAGAGGAGCCTTAGCCCTGGATTCCAAGGCCTATCCACTTGGTG...               131   \n",
       "155      ACCATGGACTGTACCTGGGGGATCCTCTTCTTGGTGGCAGCTGCCA...                61   \n",
       "207      GAAGGAGCAAAAAAAAAGATCTACGGGGATCACATAACTACGCACA...                36   \n",
       "...                                                    ...               ...   \n",
       "2759315  GAGCTCTGGGAGAGGAGCCCCAGCCTTGGGATTCCCAAGTGTTTTC...               140   \n",
       "2759317  GGCACTGGAAGTCGCCGGTGTTTCCATTCGGTGATCAGCACTGAAC...               119   \n",
       "2759321  GGAGAGAGGAGCCTTAGCCCTGGATTCCAAGGCCTATCCACTTGGT...               132   \n",
       "2759322  GAGCTCTGAGAGAGGAGCCTTAGCCCTGGATTCCAAGGCCTATCCA...               139   \n",
       "2759323  GGGGGAGAGGAGCCCAGCACTGGGATTCCGAGGTGTTTCCATTCGG...               134   \n",
       "\n",
       "         v_sequence_end  d_sequence_start  d_sequence_end  j_sequence_start  \\\n",
       "80                  429             430.0           434.0               435   \n",
       "81                  244             259.0           267.0               272   \n",
       "144                 425               NaN             NaN               432   \n",
       "155                 356             374.0           400.0               428   \n",
       "207                 154             160.0           175.0               182   \n",
       "...                 ...               ...             ...               ...   \n",
       "2759315             432             435.0           440.0               442   \n",
       "2759317             393               NaN             NaN               409   \n",
       "2759321             426             434.0           441.0               450   \n",
       "2759322             432               NaN             NaN               442   \n",
       "2759323             424             428.0           432.0               441   \n",
       "\n",
       "         j_sequence_end                                             v_call  \\\n",
       "80                  483                                      IGHVF2-G15*05   \n",
       "81                  332                        IGHVF8-G45*04,IGHVF8-G45*07   \n",
       "144                 476                                      IGHVF2-G11*06   \n",
       "155                 464          IGHVF5-G29*03,IGHVF5-G29*05,IGHVF5-G29*06   \n",
       "207                 239  IGHVF5-G26*01,IGHVF5-G26*02,IGHVF5-G26*03,IGHV...   \n",
       "...                 ...                                                ...   \n",
       "2759315             487                                      IGHVF2-G10*01   \n",
       "2759317             449                                      IGHVF2-G14*13   \n",
       "2759321             487                                      IGHVF2-G18*02   \n",
       "2759322             484                                      IGHVF2-G11*06   \n",
       "2759323             480                                      IGHVF2-G10*01   \n",
       "\n",
       "                                     d_call    j_call  \n",
       "80                  IGHD3-10*01,IGHD3-10*02  IGHJ3*02  \n",
       "81         IGHD2-2*01,IGHD2-2*02,IGHD2-2*03  IGHJ6*03  \n",
       "144                                     NaN  IGHJ4*02  \n",
       "155                              IGHD2-8*01  IGHJ4*02  \n",
       "207                             IGHD4-17*01  IGHJ6*03  \n",
       "...                                     ...       ...  \n",
       "2759315             IGHD1-26*01,IGHD7-27*01  IGHJ4*02  \n",
       "2759317                                 NaN  IGHJ4*02  \n",
       "2759321             IGHD2-21*02,IGHD6-19*01  IGHJ3*02  \n",
       "2759322                                 NaN  IGHJ4*02  \n",
       "2759323  IGHD1-1*01,IGHD1-20*01,IGHD4-17*01  IGHJ4*02  \n",
       "\n",
       "[114946 rows x 10 columns]"
      ]
     },
     "execution_count": 232,
     "metadata": {},
     "output_type": "execute_result"
    }
   ],
   "source": [
    "bad_data"
   ]
  },
  {
   "cell_type": "code",
   "execution_count": 73,
   "id": "d99baf68-f9b4-47bd-82c9-f03fbb4ec616",
   "metadata": {},
   "outputs": [
    {
     "data": {
      "text/plain": [
       "'2023_08_26'"
      ]
     },
     "execution_count": 73,
     "metadata": {},
     "output_type": "execute_result"
    }
   ],
   "source": [
    "import datetime\n"
   ]
  },
  {
   "cell_type": "code",
   "execution_count": null,
   "id": "559901e8-905f-437d-8e3e-edc7c365efa5",
   "metadata": {},
   "outputs": [],
   "source": [
    "import pickle\n",
    "with open(r'E:\\Immunobiology\\AlignAIRR\\p1_p11_s5f_noise008_vdeepjexp_v3_PROCESSED.pkl','wb') as h:\n",
    "    pickle.dump((dataset_,V),h)"
   ]
  },
  {
   "cell_type": "code",
   "execution_count": null,
   "id": "c39866e4-0b67-493a-9fc1-5b99f7d29324",
   "metadata": {},
   "outputs": [],
   "source": [
    "import pickle\n",
    "with open(r'E:\\Immunobiology\\AlignAIRR\\p1_p11_vdeepjexp_v3_V_PROCESSED.pkl','rb') as h:\n",
    "    V = pickle.load(h)\n",
    "    \n",
    "with open(r'E:\\Immunobiology\\AlignAIRR\\p1_p11_vdeepjexp_v3.pkl','rb') as h:\n",
    "    alignairr_predicted = pickle.load(h)"
   ]
  },
  {
   "cell_type": "code",
   "execution_count": null,
   "id": "2634dd1c-04d9-4e72-9c0e-4f447ce0f9e3",
   "metadata": {},
   "outputs": [],
   "source": [
    "from airrship.create_repertoire import generate_sequence,load_data,get_genotype,create_allele_dict\n",
    "from collections import defaultdict\n",
    "import importlib\n",
    "def global_genotype():\n",
    "    try:\n",
    "        path_to_data = importlib.resources.files(\n",
    "            'airrship').joinpath(\"data\")\n",
    "    except AttributeError:\n",
    "        with importlib.resources.path('airrship', 'data') as p:\n",
    "            path_to_data = p\n",
    "    v_alleles = create_allele_dict(\n",
    "        f\"{path_to_data}/imgt_human_IGHV.fasta\")\n",
    "    d_alleles = create_allele_dict(\n",
    "        f\"{path_to_data}/imgt_human_IGHD.fasta\")\n",
    "    j_alleles = create_allele_dict(\n",
    "        f\"{path_to_data}/imgt_human_IGHJ.fasta\")\n",
    "\n",
    "    vdj_allele_dicts = {\"V\": v_alleles,\n",
    "                        \"D\": d_alleles,\n",
    "                        \"J\": j_alleles}\n",
    "\n",
    "    chromosome1, chromosome2 = defaultdict(list), defaultdict(list)\n",
    "    for segment in [\"V\", \"D\", \"J\"]:\n",
    "        allele_dict = vdj_allele_dicts[segment]\n",
    "        for gene in allele_dict.values():\n",
    "            for allele in gene:\n",
    "                chromosome1[segment].append(allele)\n",
    "                chromosome2[segment].append(allele)\n",
    "\n",
    "    locus = [chromosome1, chromosome2]\n",
    "    return locus\n",
    "S = generate_sequence(global_genotype(), load_data(), mutate=True,\n",
    "                                     mutation_rate=np.random.uniform(0,0.15,1).item(),\n",
    "                                     shm_flat=True, flat_usage='gene')\n"
   ]
  },
  {
   "cell_type": "code",
   "execution_count": null,
   "id": "23c4af7f-19bf-49f8-9019-6c0f71fd5f3b",
   "metadata": {},
   "outputs": [
    {
     "data": {
      "text/plain": [
       "'GAAGTGCAGCTGGTGGAGTCTGGGGGAGTCGTGGTACAGCCTGGGGGGTCCCTGAGACTCTCCTGTGCAGCCTCTGGATTCACCTTTGATGATTATGCCATGCACTGGGTCCGTCAAGCTCCGGGGAAGGGTCTGGAGTGGGTCTCTCTTATTAGTTGGGATGGTGGTAGCACCTACTATGCAGACTCTGTGAAGGGTCGATTCACCATCTCCAGAGACAACAGCAAAAACTCCCTGTATCTGCAAATGAACAGTCTGAGAGCTGAGGACACCGCCTTGTATTACTGTGCAAAAGATAGTCTTCCCATGACTGGACGCGCTGAATACTTCCAGCACTGGGGCCAGGGCACCCTGGTCACCGTCTCCTCAG'"
      ]
     },
     "execution_count": 10,
     "metadata": {},
     "output_type": "execute_result"
    }
   ],
   "source": [
    "S.ungapped_seq"
   ]
  },
  {
   "cell_type": "code",
   "execution_count": null,
   "id": "b3f7ed76-fcb0-49e3-aba1-2e5427aad5dd",
   "metadata": {},
   "outputs": [
    {
     "data": {
      "text/plain": [
       "298"
      ]
     },
     "execution_count": 11,
     "metadata": {},
     "output_type": "execute_result"
    }
   ],
   "source": [
    "S.v_seq_end"
   ]
  },
  {
   "cell_type": "code",
   "execution_count": null,
   "id": "2c4fb7de-9de4-4591-b6a9-d7d4e2615733",
   "metadata": {},
   "outputs": [
    {
     "data": {
      "text/plain": [
       "'TGGGGGAGTCGTGGTACAGCCTGGGGGGTCCCTGAGACTCTCCTGTGCAGCCTCTGGATTCACCTTTGATGATTATGCCATGCACTGGGTCCGTCAAGCTCCGGGGAAGGGTCTGGAGTGGGTCTCTCTTATTAGTTGGGATGGTGGTAGCACCTACTATGCAGACTCTGTGAAGGGTCGATTCACCATCTCCAGAGACAACAGCAAAAACTCCCTGTATCTGCAAATGAACAGTCTGAGAGCTGAGGACACCGCCTTGTATTACTGTGCAAAAGATAGTCTTCCCATGACTGGACGCGCTGAATACTTCCAGCACTGGGGCCAGGGCACCCTGGTCACCGTCTCCTCAG'"
      ]
     },
     "execution_count": 12,
     "metadata": {},
     "output_type": "execute_result"
    }
   ],
   "source": [
    "S.ungapped_seq[20:]"
   ]
  },
  {
   "cell_type": "code",
   "execution_count": null,
   "id": "7f9b557e-978b-4947-85f6-c7c7f874075c",
   "metadata": {},
   "outputs": [],
   "source": [
    "mm = vdj_dataset.data[~np.array(hits)]"
   ]
  },
  {
   "cell_type": "code",
   "execution_count": null,
   "id": "f1a524eb-d757-4f22-b4e8-498739ceab89",
   "metadata": {},
   "outputs": [
    {
     "data": {
      "text/plain": [
       "'IGHVF5-G26*12'"
      ]
     },
     "execution_count": 19,
     "metadata": {},
     "output_type": "execute_result"
    }
   ],
   "source": [
    "mm[(mm.v_sequence_end-mm.v_sequence_start)<100].iloc[4,:]['v_call']"
   ]
  },
  {
   "cell_type": "code",
   "execution_count": null,
   "id": "54b9a6fc-2f98-4788-9a86-6d58e4890eb6",
   "metadata": {},
   "outputs": [],
   "source": [
    "import requests\n",
    "import json\n",
    "import re\n",
    "from bs4 import BeautifulSoup\n"
   ]
  },
  {
   "cell_type": "code",
   "execution_count": null,
   "id": "f093184a-6bef-4952-a6f4-8d2d00286d65",
   "metadata": {
    "tags": []
   },
   "outputs": [],
   "source": [
    "# from bs4 import BeautifulSoup\n",
    "# from IPython.display import display, HTML\n",
    "# #BeautifulSoup(post.text)\n",
    "\n",
    "# display(HTML(response.content))"
   ]
  },
  {
   "cell_type": "code",
   "execution_count": null,
   "id": "322a0c3f-a3ac-4241-be87-78c6ed5d4ff0",
   "metadata": {},
   "outputs": [],
   "source": [
    "from selenium import webdriver\n",
    "from selenium.webdriver.common.by import By\n",
    "from selenium.webdriver.support.ui import WebDriverWait\n",
    "from selenium.webdriver.support import expected_conditions as EC\n",
    "from webdriver_manager.chrome import ChromeDriverManager\n",
    "from selenium.webdriver.chrome.service import Service\n",
    "from bs4 import BeautifulSoup\n",
    "\n",
    "class NCBI_IGBLAST:\n",
    "    def __init__(self):\n",
    "        service = Service(executable_path='C:/Users/Tomas/Downloads/chromedriver.exe')\n",
    "        options = webdriver.ChromeOptions()\n",
    "        options.add_argument('--headless')\n",
    "        options.add_argument('--no-sandbox')\n",
    "        options.add_argument('--disable-dev-shm-usage')\n",
    "        self.driver = webdriver.Chrome(service=service, options=options)\n",
    "        self.results = []  # List to store the results\n",
    "\n",
    "    def search(self, text):\n",
    "        # Navigate to the URL\n",
    "        self.driver.get(\"https://www.ncbi.nlm.nih.gov/igblast/\")\n",
    "        \n",
    "        # Find the textarea and enter the text\n",
    "        queryseq_textarea = self.driver.find_element(By.ID, \"queryseq\")\n",
    "        queryseq_textarea.clear()\n",
    "        queryseq_textarea.send_keys(text)\n",
    "        \n",
    "        # Click the Search button\n",
    "        search_button = self.driver.find_element(By.XPATH, '//input[@type=\"button\" and @value=\"Search\"]')\n",
    "        search_button.click()\n",
    "\n",
    "        # Wait for the page to load (you might need to adjust the timeout)\n",
    "        WebDriverWait(self.driver, 30).until(\n",
    "            EC.presence_of_element_located((By.ID, \"content\"))\n",
    "        )\n",
    "\n",
    "        # Return the page's HTML\n",
    "        return self.driver.page_source\n",
    "\n",
    "    def search_multiple(self, sequences):\n",
    "        \"\"\"Search multiple sequences and store the results in the results attribute.\"\"\"\n",
    "        for seq in tqdm(sequences):\n",
    "            html_content = self.search(seq)\n",
    "            self.results.append(html_content)\n",
    "\n",
    "    def close(self):\n",
    "        self.driver.quit()\n",
    "\n",
    "\n"
   ]
  }
 ],
 "metadata": {
  "kernelspec": {
   "display_name": "Python 3 (ipykernel)",
   "language": "python",
   "name": "python3"
  },
  "language_info": {
   "codemirror_mode": {
    "name": "ipython",
    "version": 3
   },
   "file_extension": ".py",
   "mimetype": "text/x-python",
   "name": "python",
   "nbconvert_exporter": "python",
   "pygments_lexer": "ipython3",
   "version": "3.8.13"
  }
 },
 "nbformat": 4,
 "nbformat_minor": 5
}
